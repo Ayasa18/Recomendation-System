{
  "cells": [
    {
      "cell_type": "markdown",
      "metadata": {
        "id": "H9wADwK78DCz"
      },
      "source": [
        "# Proyek Akhir : Membuat Model Sistem Rekomendasi : [Anime Dataset]\n",
        "- **Nama:** [Aditiya Saputra]\n",
        "- **Email:** [AditiyaS1811@gmail.com]\n",
        "- **ID Dicoding:** [Aditiya18]"
      ]
    },
    {
      "cell_type": "markdown",
      "metadata": {
        "id": "kmWAFf_jjvqL"
      },
      "source": [
        "## Deskripsi Proyek\n",
        "Proyek ini bertujuan untuk membangun sistem rekomendasi anime berbasis machine learning yang dapat memprediksi anime-anime mana yang kemungkinan besar akan disukai oleh pengguna tertentu, berdasarkan interaksi dan penilaian pengguna lain. Sistem ini menggunakan pendekatan pembelajaran representasi (embedding) untuk menangkap hubungan antara pengguna dan anime yang telah mereka beri nilai sebelumnya.\n",
        "\n",
        "Langkah-langkah dalam proyek ini:\n",
        "\n",
        "1. Persiapan Data:\n",
        "\n",
        "    * Dataset yang digunakan berisi informasi tentang penilaian atau review pengguna terhadap berbagai judul anime.\n",
        "\n",
        "    * Data diproses untuk mengekstraksi fitur penting seperti User ID, Anime Title, dan Overall Rating.\n",
        "\n",
        "    * Dilakukan encoding terhadap kolom kategorikal seperti Username dan Anime Title menggunakan LabelEncoder agar dapat diproses oleh model.\n",
        "\n",
        "    * Dataset dibagi menjadi data pelatihan dan validasi dengan rasio 80:20.\n",
        "\n",
        "2. Pemodelan:\n",
        "\n",
        "    * Model yang digunakan adalah Neural Collaborative Filtering yang dibangun dengan memanfaatkan embedding layer untuk mewakili pengguna dan anime dalam ruang vektor berdimensi rendah.\n",
        "\n",
        "    * Model dirancang untuk mempelajari interaksi antara pengguna dan anime melalui dot product embedding yang disertai bias.\n",
        "\n",
        "    * Proses pelatihan menggunakan Mean Squared Error (MSE) sebagai fungsi loss dan Adam Optimizer dengan EarlyStopping untuk menghindari overfitting.\n",
        "\n",
        "3. Prediksi dan Rekomendasi:\n",
        "\n",
        "    * Setelah model terlatih, sistem memprediksi skor minat untuk setiap kombinasi pengguna-anime.\n",
        "\n",
        "    * Top 10 anime dengan skor prediksi tertinggi ditampilkan sebagai rekomendasi personal untuk pengguna tertentu.\n",
        "\n",
        "    * Hasil ditampilkan dalam bentuk tabel dan grafik bar untuk memudahkan interpretasi visual.\n",
        "\n",
        "4. Evaluasi Model:\n",
        "\n",
        "    * Model dievaluasi menggunakan metrik MAE (Mean Absolute Error) dan RMSE (Root Mean Squared Error) pada data validasi untuk mengetahui akurasi prediksi yang dihasilkan.\n",
        "\n",
        "    * Evaluasi visual juga dilakukan dengan membandingkan prediksi rating dengan rating aktual pada subset data.\n",
        "\n",
        "Tujuan Proyek:\n",
        "\n",
        "    * Mengembangkan sistem rekomendasi anime yang bersifat personal dan dapat meningkatkan pengalaman pengguna dalam menemukan konten yang relevan.\n",
        "\n",
        "    * Menggunakan pendekatan machine learning yang efektif dalam mengenali pola preferensi pengguna terhadap judul anime tertentu.\n",
        "\n",
        "    * Meningkatkan pemahaman tentang penerapan teknik embedding dan neural network dalam sistem rekomendasi konten.\n",
        "\n",
        "Proyek ini tidak hanya menunjukkan kemampuan model dalam memberikan rekomendasi berbasis data historis, tetapi juga menekankan pentingnya teknik representasi pengguna dan item dalam menciptakan sistem yang adaptif dan personal.\n",
        "\n",
        "Source Dataset : https://www.kaggle.com/datasets/stoicstatic/mal-top-10k-anime-details"
      ]
    },
    {
      "cell_type": "markdown",
      "metadata": {
        "id": "H-z4QGlO8DC1"
      },
      "source": [
        "## Import Semua Packages/Library yang Digunakan"
      ]
    },
    {
      "cell_type": "code",
      "execution_count": null,
      "metadata": {
        "id": "FVYwaObI8DC1"
      },
      "outputs": [],
      "source": [
        "import pandas as pd\n",
        "import numpy as np\n",
        "import tensorflow as tf\n",
        "import zipfile\n",
        "from tensorflow import keras\n",
        "from tensorflow.keras import layers\n",
        "from pathlib import Path\n",
        "import matplotlib.pyplot as plt\n",
        "import seaborn as sns\n",
        "from sklearn.model_selection import train_test_split"
      ]
    },
    {
      "cell_type": "markdown",
      "metadata": {
        "id": "TK4DvqfbYrN8"
      },
      "source": [
        "## Data Preparation"
      ]
    },
    {
      "cell_type": "markdown",
      "metadata": {
        "id": "HHekw29KX4XQ"
      },
      "source": [
        "### Data Loading"
      ]
    },
    {
      "cell_type": "code",
      "execution_count": null,
      "metadata": {
        "colab": {
          "base_uri": "https://localhost:8080/"
        },
        "id": "py-_qoJIeRor",
        "outputId": "c0e1c2b7-c503-4097-ed87-c9a29e807ed7"
      },
      "outputs": [
        {
          "name": "stdout",
          "output_type": "stream",
          "text": [
            "Requirement already satisfied: kaggle in /usr/local/lib/python3.11/dist-packages (1.7.4.2)\n",
            "Requirement already satisfied: bleach in /usr/local/lib/python3.11/dist-packages (from kaggle) (6.2.0)\n",
            "Requirement already satisfied: certifi>=14.05.14 in /usr/local/lib/python3.11/dist-packages (from kaggle) (2025.1.31)\n",
            "Requirement already satisfied: charset-normalizer in /usr/local/lib/python3.11/dist-packages (from kaggle) (3.4.1)\n",
            "Requirement already satisfied: idna in /usr/local/lib/python3.11/dist-packages (from kaggle) (3.10)\n",
            "Requirement already satisfied: protobuf in /usr/local/lib/python3.11/dist-packages (from kaggle) (5.29.4)\n",
            "Requirement already satisfied: python-dateutil>=2.5.3 in /usr/local/lib/python3.11/dist-packages (from kaggle) (2.8.2)\n",
            "Requirement already satisfied: python-slugify in /usr/local/lib/python3.11/dist-packages (from kaggle) (8.0.4)\n",
            "Requirement already satisfied: requests in /usr/local/lib/python3.11/dist-packages (from kaggle) (2.32.3)\n",
            "Requirement already satisfied: setuptools>=21.0.0 in /usr/local/lib/python3.11/dist-packages (from kaggle) (75.2.0)\n",
            "Requirement already satisfied: six>=1.10 in /usr/local/lib/python3.11/dist-packages (from kaggle) (1.17.0)\n",
            "Requirement already satisfied: text-unidecode in /usr/local/lib/python3.11/dist-packages (from kaggle) (1.3)\n",
            "Requirement already satisfied: tqdm in /usr/local/lib/python3.11/dist-packages (from kaggle) (4.67.1)\n",
            "Requirement already satisfied: urllib3>=1.15.1 in /usr/local/lib/python3.11/dist-packages (from kaggle) (2.3.0)\n",
            "Requirement already satisfied: webencodings in /usr/local/lib/python3.11/dist-packages (from kaggle) (0.5.1)\n",
            "mkdir: cannot create directory ‘/root/.kaggle’: File exists\n",
            "Dataset URL: https://www.kaggle.com/datasets/stoicstatic/mal-top-10k-anime-details\n",
            "License(s): CC0-1.0\n",
            "mal-top-10k-anime-details.zip: Skipping, found more recently modified local copy (use --force to force download)\n"
          ]
        }
      ],
      "source": [
        "!pip install kaggle\n",
        "!mkdir ~/.kaggle\n",
        "!cp kaggle.json ~/.kaggle\n",
        "!chmod 600 ~/.kaggle/kaggle.json\n",
        "!kaggle datasets download -d stoicstatic/mal-top-10k-anime-details"
      ]
    },
    {
      "cell_type": "markdown",
      "metadata": {
        "id": "RDbDvX0eQdCX"
      },
      "source": [
        "Extract Dataset"
      ]
    },
    {
      "cell_type": "code",
      "execution_count": null,
      "metadata": {
        "id": "eQZs1r8E_TlJ"
      },
      "outputs": [],
      "source": [
        "import zipfile\n",
        "\n",
        "with zipfile.ZipFile('/content/mal-top-10k-anime-details.zip', 'r') as zip_ref:\n",
        "    zip_ref.extractall('mal-top-10k-anime-details')"
      ]
    },
    {
      "cell_type": "markdown",
      "metadata": {
        "id": "YrYKu2kzQfIE"
      },
      "source": [
        "Read Dataset"
      ]
    },
    {
      "cell_type": "code",
      "execution_count": null,
      "metadata": {
        "colab": {
          "base_uri": "https://localhost:8080/",
          "height": 521
        },
        "id": "yOrqePQlU5Oq",
        "outputId": "c515bb26-189f-4652-db7e-f6ac899cf539"
      },
      "outputs": [
        {
          "data": {
            "application/vnd.google.colaboratory.intrinsic+json": {
              "summary": "{\n  \"name\": \"df\",\n  \"rows\": 85953,\n  \"fields\": [\n    {\n      \"column\": \"Anime Rank\",\n      \"properties\": {\n        \"dtype\": \"number\",\n        \"std\": 1346,\n        \"min\": 1,\n        \"max\": 5001,\n        \"num_unique_values\": 4315,\n        \"samples\": [\n          52,\n          3011,\n          2920\n        ],\n        \"semantic_type\": \"\",\n        \"description\": \"\"\n      }\n    },\n    {\n      \"column\": \"Anime Title\",\n      \"properties\": {\n        \"dtype\": \"category\",\n        \"num_unique_values\": 4315,\n        \"samples\": [\n          \"Suzumiya Haruhi no Shoushitsu\",\n          \"Yes! Precure 5\",\n          \"Dr. Slump: Arale-chan\"\n        ],\n        \"semantic_type\": \"\",\n        \"description\": \"\"\n      }\n    },\n    {\n      \"column\": \"Anime URL\",\n      \"properties\": {\n        \"dtype\": \"category\",\n        \"num_unique_values\": 6999,\n        \"samples\": [\n          \"https://myanimelist.net/anime/35320/Cardcaptor_Sakura__Clear_Card-hen_Prologue_-_Sakura_to_Futatsu_no_Kuma/reviews\",\n          \"https://myanimelist.net/anime/35466/ReLIFE__Kanketsu-hen/reviews\",\n          \"https://myanimelist.net/anime/519/Mahoraba__Heartful_days/reviews\"\n        ],\n        \"semantic_type\": \"\",\n        \"description\": \"\"\n      }\n    },\n    {\n      \"column\": \"Username\",\n      \"properties\": {\n        \"dtype\": \"category\",\n        \"num_unique_values\": 35118,\n        \"samples\": [\n          \"hotbuysugg\",\n          \"hikabot\",\n          \"emolys\"\n        ],\n        \"semantic_type\": \"\",\n        \"description\": \"\"\n      }\n    },\n    {\n      \"column\": \"Review Date\",\n      \"properties\": {\n        \"dtype\": \"object\",\n        \"num_unique_values\": 4962,\n        \"samples\": [\n          \"Aug 6, 2010\",\n          \"May 3, 2018\",\n          \"Mar 25, 2020\"\n        ],\n        \"semantic_type\": \"\",\n        \"description\": \"\"\n      }\n    },\n    {\n      \"column\": \"Episodes Watched\",\n      \"properties\": {\n        \"dtype\": \"category\",\n        \"num_unique_values\": 1806,\n        \"samples\": [\n          \"15 of 16 episodes seen\",\n          \"457 of ? episodes seen\",\n          \"49 of 25 episodes seen\"\n        ],\n        \"semantic_type\": \"\",\n        \"description\": \"\"\n      }\n    },\n    {\n      \"column\": \"Review Likes\",\n      \"properties\": {\n        \"dtype\": \"number\",\n        \"std\": 92,\n        \"min\": 0,\n        \"max\": 4624,\n        \"num_unique_values\": 863,\n        \"samples\": [\n          339,\n          360,\n          162\n        ],\n        \"semantic_type\": \"\",\n        \"description\": \"\"\n      }\n    },\n    {\n      \"column\": \"Overall Rating\",\n      \"properties\": {\n        \"dtype\": \"number\",\n        \"std\": 2,\n        \"min\": 1,\n        \"max\": 10,\n        \"num_unique_values\": 10,\n        \"samples\": [\n          1,\n          9,\n          8\n        ],\n        \"semantic_type\": \"\",\n        \"description\": \"\"\n      }\n    },\n    {\n      \"column\": \"Story Rating\",\n      \"properties\": {\n        \"dtype\": \"number\",\n        \"std\": 2,\n        \"min\": 0,\n        \"max\": 10,\n        \"num_unique_values\": 11,\n        \"samples\": [\n          7,\n          10,\n          1\n        ],\n        \"semantic_type\": \"\",\n        \"description\": \"\"\n      }\n    },\n    {\n      \"column\": \"Animation Rating\",\n      \"properties\": {\n        \"dtype\": \"number\",\n        \"std\": 2,\n        \"min\": 0,\n        \"max\": 10,\n        \"num_unique_values\": 11,\n        \"samples\": [\n          5,\n          9,\n          2\n        ],\n        \"semantic_type\": \"\",\n        \"description\": \"\"\n      }\n    },\n    {\n      \"column\": \"Sound Rating\",\n      \"properties\": {\n        \"dtype\": \"number\",\n        \"std\": 2,\n        \"min\": 0,\n        \"max\": 10,\n        \"num_unique_values\": 11,\n        \"samples\": [\n          5,\n          9,\n          1\n        ],\n        \"semantic_type\": \"\",\n        \"description\": \"\"\n      }\n    },\n    {\n      \"column\": \"Character Rating\",\n      \"properties\": {\n        \"dtype\": \"number\",\n        \"std\": 2,\n        \"min\": 0,\n        \"max\": 10,\n        \"num_unique_values\": 11,\n        \"samples\": [\n          3,\n          10,\n          2\n        ],\n        \"semantic_type\": \"\",\n        \"description\": \"\"\n      }\n    },\n    {\n      \"column\": \"Enjoyment Rating\",\n      \"properties\": {\n        \"dtype\": \"number\",\n        \"std\": 2,\n        \"min\": 0,\n        \"max\": 10,\n        \"num_unique_values\": 11,\n        \"samples\": [\n          3,\n          10,\n          0\n        ],\n        \"semantic_type\": \"\",\n        \"description\": \"\"\n      }\n    },\n    {\n      \"column\": \"Review\",\n      \"properties\": {\n        \"dtype\": \"string\",\n        \"num_unique_values\": 85840,\n        \"samples\": [\n          \"These special episodes were quite interesting for not only focused on comedy (it's funny), and the comedy scenes, there is very interesting stories involved why are developing the characters, telling their past or simply focusing on a particular character.\\nThese specials were well thought out as if they all were inserted in flashbacks or in the middle of anime could drop quality.\\n--------------------------------------------------------------------------------------------------\\n(Analysis ended here) There's not much to talk about since it is special episodes, I'm writing this just to fill out the question of writing a longer review. Soundtrack of this specials are so funny and relaxing, animation and very good fluidity as ever\\nby Madhouse\",\n          \"Story\\nIt repetitive and boring. I believe there are 2 seasons so near 50 episodes of trying to kill this guy. How much can you milk this show. It should have lasted 13 eps at most.\\nArt\\nIts there. Nothing great about it as there are no beautiful cuts. It's what I expect from a more recent anime release.\\nSound\\nSame idea for the art. It's expected, but there is nothing significant as no real music cuts were fantastic.\\nCharacter\\nEach and every character bothers me. Maybe it's just me, but they are all annoying in they're own way. Also the alien guy is the most confusing character imaginable. He will destroy\\na world, but first he has to teach??? Like how is this logical, I get there was a promise, but how can a promise lead you to teach kids and destroy the world they live in after.\\nEnjoyment\\nThere was none from me\\nOverall\\nIf you enjoy seeing how many ways they can think of failed ways to kill and alien by all means watch the show. I am sure most people watched since they want to know how he dies, if he does at all, but honestly I rather just google search it to see the creative way of his death, if there is one.\",\n          \"Ebichu was one of the first anime series I watched. I got the DVD as a present and one dark and stormy day decided to watch it. Wow. For the first three episodes I didn't know whether to laugh or cry. It is just plain weird. I can't describe it better. It_just_is_weird.\\nEbichu is about a hamster called Ebichu. Her owner is a single office lady desperate to find a husband. Many jokes center around Ebichu's owner and her good-for-nothing boyfriend. What makes this show worth watching is its extreme humour that springs form this set-up. Warning to all American kids: Contains adult themes, watch this\\nand be sued! Infidelity, sex in it's all forms (and positions... he-he-eeeeh...), gambling, violence and much more. Best advertising speech ever?\\nEbichu is best watched with an open mind and maybe a couple of friends and some beverages with alcohol in them. Once in a while you can shout: \\\"Oh those crazy Japanese!\\\" After all I enjoyd Ebichu's twisted humour and recommend this to anyone who can fill all the conditions in the beginning of this paragraph. Try it - I can guarantee that you may or may not be disappointed.\"\n        ],\n        \"semantic_type\": \"\",\n        \"description\": \"\"\n      }\n    }\n  ]\n}",
              "type": "dataframe",
              "variable_name": "df"
            },
            "text/html": [
              "\n",
              "  <div id=\"df-52beb163-f649-4b6a-a778-0120d7944b3d\" class=\"colab-df-container\">\n",
              "    <div>\n",
              "<style scoped>\n",
              "    .dataframe tbody tr th:only-of-type {\n",
              "        vertical-align: middle;\n",
              "    }\n",
              "\n",
              "    .dataframe tbody tr th {\n",
              "        vertical-align: top;\n",
              "    }\n",
              "\n",
              "    .dataframe thead th {\n",
              "        text-align: right;\n",
              "    }\n",
              "</style>\n",
              "<table border=\"1\" class=\"dataframe\">\n",
              "  <thead>\n",
              "    <tr style=\"text-align: right;\">\n",
              "      <th></th>\n",
              "      <th>Anime Rank</th>\n",
              "      <th>Anime Title</th>\n",
              "      <th>Anime URL</th>\n",
              "      <th>Username</th>\n",
              "      <th>Review Date</th>\n",
              "      <th>Episodes Watched</th>\n",
              "      <th>Review Likes</th>\n",
              "      <th>Overall Rating</th>\n",
              "      <th>Story Rating</th>\n",
              "      <th>Animation Rating</th>\n",
              "      <th>Sound Rating</th>\n",
              "      <th>Character Rating</th>\n",
              "      <th>Enjoyment Rating</th>\n",
              "      <th>Review</th>\n",
              "    </tr>\n",
              "  </thead>\n",
              "  <tbody>\n",
              "    <tr>\n",
              "      <th>0</th>\n",
              "      <td>1</td>\n",
              "      <td>Fullmetal Alchemist: Brotherhood</td>\n",
              "      <td>https://myanimelist.net/anime/5114/Fullmetal_A...</td>\n",
              "      <td>tazillo</td>\n",
              "      <td>Jan 25, 2010</td>\n",
              "      <td>64 of 64 episodes seen</td>\n",
              "      <td>3464</td>\n",
              "      <td>10</td>\n",
              "      <td>10</td>\n",
              "      <td>9</td>\n",
              "      <td>9</td>\n",
              "      <td>10</td>\n",
              "      <td>10</td>\n",
              "      <td>First of all, I have seen the original FMA and...</td>\n",
              "    </tr>\n",
              "    <tr>\n",
              "      <th>1</th>\n",
              "      <td>1</td>\n",
              "      <td>Fullmetal Alchemist: Brotherhood</td>\n",
              "      <td>https://myanimelist.net/anime/5114/Fullmetal_A...</td>\n",
              "      <td>Archaeon</td>\n",
              "      <td>Nov 15, 2010</td>\n",
              "      <td>64 of 64 episodes seen</td>\n",
              "      <td>1311</td>\n",
              "      <td>9</td>\n",
              "      <td>8</td>\n",
              "      <td>9</td>\n",
              "      <td>9</td>\n",
              "      <td>9</td>\n",
              "      <td>9</td>\n",
              "      <td>Adaptations have long been a thorn in the side...</td>\n",
              "    </tr>\n",
              "    <tr>\n",
              "      <th>2</th>\n",
              "      <td>1</td>\n",
              "      <td>Fullmetal Alchemist: Brotherhood</td>\n",
              "      <td>https://myanimelist.net/anime/5114/Fullmetal_A...</td>\n",
              "      <td>ChristopherKClaw</td>\n",
              "      <td>Apr 7, 2015</td>\n",
              "      <td>64 of 64 episodes seen</td>\n",
              "      <td>1113</td>\n",
              "      <td>7</td>\n",
              "      <td>8</td>\n",
              "      <td>8</td>\n",
              "      <td>10</td>\n",
              "      <td>6</td>\n",
              "      <td>7</td>\n",
              "      <td>Fullmetal Alchemist: Brotherhood gets an immen...</td>\n",
              "    </tr>\n",
              "    <tr>\n",
              "      <th>3</th>\n",
              "      <td>1</td>\n",
              "      <td>Fullmetal Alchemist: Brotherhood</td>\n",
              "      <td>https://myanimelist.net/anime/5114/Fullmetal_A...</td>\n",
              "      <td>literaturenerd</td>\n",
              "      <td>Apr 25, 2015</td>\n",
              "      <td>64 of 64 episodes seen</td>\n",
              "      <td>704</td>\n",
              "      <td>7</td>\n",
              "      <td>8</td>\n",
              "      <td>8</td>\n",
              "      <td>8</td>\n",
              "      <td>8</td>\n",
              "      <td>8</td>\n",
              "      <td>Overview:\\nFMA Brotherhood is an anime that ne...</td>\n",
              "    </tr>\n",
              "    <tr>\n",
              "      <th>4</th>\n",
              "      <td>1</td>\n",
              "      <td>Fullmetal Alchemist: Brotherhood</td>\n",
              "      <td>https://myanimelist.net/anime/5114/Fullmetal_A...</td>\n",
              "      <td>M0nkeyD_Luffy</td>\n",
              "      <td>Jul 29, 2015</td>\n",
              "      <td>64 of 64 episodes seen</td>\n",
              "      <td>446</td>\n",
              "      <td>5</td>\n",
              "      <td>2</td>\n",
              "      <td>7</td>\n",
              "      <td>7</td>\n",
              "      <td>8</td>\n",
              "      <td>5</td>\n",
              "      <td>Since I couldn't find any legitimate objective...</td>\n",
              "    </tr>\n",
              "  </tbody>\n",
              "</table>\n",
              "</div>\n",
              "    <div class=\"colab-df-buttons\">\n",
              "\n",
              "  <div class=\"colab-df-container\">\n",
              "    <button class=\"colab-df-convert\" onclick=\"convertToInteractive('df-52beb163-f649-4b6a-a778-0120d7944b3d')\"\n",
              "            title=\"Convert this dataframe to an interactive table.\"\n",
              "            style=\"display:none;\">\n",
              "\n",
              "  <svg xmlns=\"http://www.w3.org/2000/svg\" height=\"24px\" viewBox=\"0 -960 960 960\">\n",
              "    <path d=\"M120-120v-720h720v720H120Zm60-500h600v-160H180v160Zm220 220h160v-160H400v160Zm0 220h160v-160H400v160ZM180-400h160v-160H180v160Zm440 0h160v-160H620v160ZM180-180h160v-160H180v160Zm440 0h160v-160H620v160Z\"/>\n",
              "  </svg>\n",
              "    </button>\n",
              "\n",
              "  <style>\n",
              "    .colab-df-container {\n",
              "      display:flex;\n",
              "      gap: 12px;\n",
              "    }\n",
              "\n",
              "    .colab-df-convert {\n",
              "      background-color: #E8F0FE;\n",
              "      border: none;\n",
              "      border-radius: 50%;\n",
              "      cursor: pointer;\n",
              "      display: none;\n",
              "      fill: #1967D2;\n",
              "      height: 32px;\n",
              "      padding: 0 0 0 0;\n",
              "      width: 32px;\n",
              "    }\n",
              "\n",
              "    .colab-df-convert:hover {\n",
              "      background-color: #E2EBFA;\n",
              "      box-shadow: 0px 1px 2px rgba(60, 64, 67, 0.3), 0px 1px 3px 1px rgba(60, 64, 67, 0.15);\n",
              "      fill: #174EA6;\n",
              "    }\n",
              "\n",
              "    .colab-df-buttons div {\n",
              "      margin-bottom: 4px;\n",
              "    }\n",
              "\n",
              "    [theme=dark] .colab-df-convert {\n",
              "      background-color: #3B4455;\n",
              "      fill: #D2E3FC;\n",
              "    }\n",
              "\n",
              "    [theme=dark] .colab-df-convert:hover {\n",
              "      background-color: #434B5C;\n",
              "      box-shadow: 0px 1px 3px 1px rgba(0, 0, 0, 0.15);\n",
              "      filter: drop-shadow(0px 1px 2px rgba(0, 0, 0, 0.3));\n",
              "      fill: #FFFFFF;\n",
              "    }\n",
              "  </style>\n",
              "\n",
              "    <script>\n",
              "      const buttonEl =\n",
              "        document.querySelector('#df-52beb163-f649-4b6a-a778-0120d7944b3d button.colab-df-convert');\n",
              "      buttonEl.style.display =\n",
              "        google.colab.kernel.accessAllowed ? 'block' : 'none';\n",
              "\n",
              "      async function convertToInteractive(key) {\n",
              "        const element = document.querySelector('#df-52beb163-f649-4b6a-a778-0120d7944b3d');\n",
              "        const dataTable =\n",
              "          await google.colab.kernel.invokeFunction('convertToInteractive',\n",
              "                                                    [key], {});\n",
              "        if (!dataTable) return;\n",
              "\n",
              "        const docLinkHtml = 'Like what you see? Visit the ' +\n",
              "          '<a target=\"_blank\" href=https://colab.research.google.com/notebooks/data_table.ipynb>data table notebook</a>'\n",
              "          + ' to learn more about interactive tables.';\n",
              "        element.innerHTML = '';\n",
              "        dataTable['output_type'] = 'display_data';\n",
              "        await google.colab.output.renderOutput(dataTable, element);\n",
              "        const docLink = document.createElement('div');\n",
              "        docLink.innerHTML = docLinkHtml;\n",
              "        element.appendChild(docLink);\n",
              "      }\n",
              "    </script>\n",
              "  </div>\n",
              "\n",
              "\n",
              "<div id=\"df-0defd1ba-482d-43b8-be6c-e5b5d4dfd640\">\n",
              "  <button class=\"colab-df-quickchart\" onclick=\"quickchart('df-0defd1ba-482d-43b8-be6c-e5b5d4dfd640')\"\n",
              "            title=\"Suggest charts\"\n",
              "            style=\"display:none;\">\n",
              "\n",
              "<svg xmlns=\"http://www.w3.org/2000/svg\" height=\"24px\"viewBox=\"0 0 24 24\"\n",
              "     width=\"24px\">\n",
              "    <g>\n",
              "        <path d=\"M19 3H5c-1.1 0-2 .9-2 2v14c0 1.1.9 2 2 2h14c1.1 0 2-.9 2-2V5c0-1.1-.9-2-2-2zM9 17H7v-7h2v7zm4 0h-2V7h2v10zm4 0h-2v-4h2v4z\"/>\n",
              "    </g>\n",
              "</svg>\n",
              "  </button>\n",
              "\n",
              "<style>\n",
              "  .colab-df-quickchart {\n",
              "      --bg-color: #E8F0FE;\n",
              "      --fill-color: #1967D2;\n",
              "      --hover-bg-color: #E2EBFA;\n",
              "      --hover-fill-color: #174EA6;\n",
              "      --disabled-fill-color: #AAA;\n",
              "      --disabled-bg-color: #DDD;\n",
              "  }\n",
              "\n",
              "  [theme=dark] .colab-df-quickchart {\n",
              "      --bg-color: #3B4455;\n",
              "      --fill-color: #D2E3FC;\n",
              "      --hover-bg-color: #434B5C;\n",
              "      --hover-fill-color: #FFFFFF;\n",
              "      --disabled-bg-color: #3B4455;\n",
              "      --disabled-fill-color: #666;\n",
              "  }\n",
              "\n",
              "  .colab-df-quickchart {\n",
              "    background-color: var(--bg-color);\n",
              "    border: none;\n",
              "    border-radius: 50%;\n",
              "    cursor: pointer;\n",
              "    display: none;\n",
              "    fill: var(--fill-color);\n",
              "    height: 32px;\n",
              "    padding: 0;\n",
              "    width: 32px;\n",
              "  }\n",
              "\n",
              "  .colab-df-quickchart:hover {\n",
              "    background-color: var(--hover-bg-color);\n",
              "    box-shadow: 0 1px 2px rgba(60, 64, 67, 0.3), 0 1px 3px 1px rgba(60, 64, 67, 0.15);\n",
              "    fill: var(--button-hover-fill-color);\n",
              "  }\n",
              "\n",
              "  .colab-df-quickchart-complete:disabled,\n",
              "  .colab-df-quickchart-complete:disabled:hover {\n",
              "    background-color: var(--disabled-bg-color);\n",
              "    fill: var(--disabled-fill-color);\n",
              "    box-shadow: none;\n",
              "  }\n",
              "\n",
              "  .colab-df-spinner {\n",
              "    border: 2px solid var(--fill-color);\n",
              "    border-color: transparent;\n",
              "    border-bottom-color: var(--fill-color);\n",
              "    animation:\n",
              "      spin 1s steps(1) infinite;\n",
              "  }\n",
              "\n",
              "  @keyframes spin {\n",
              "    0% {\n",
              "      border-color: transparent;\n",
              "      border-bottom-color: var(--fill-color);\n",
              "      border-left-color: var(--fill-color);\n",
              "    }\n",
              "    20% {\n",
              "      border-color: transparent;\n",
              "      border-left-color: var(--fill-color);\n",
              "      border-top-color: var(--fill-color);\n",
              "    }\n",
              "    30% {\n",
              "      border-color: transparent;\n",
              "      border-left-color: var(--fill-color);\n",
              "      border-top-color: var(--fill-color);\n",
              "      border-right-color: var(--fill-color);\n",
              "    }\n",
              "    40% {\n",
              "      border-color: transparent;\n",
              "      border-right-color: var(--fill-color);\n",
              "      border-top-color: var(--fill-color);\n",
              "    }\n",
              "    60% {\n",
              "      border-color: transparent;\n",
              "      border-right-color: var(--fill-color);\n",
              "    }\n",
              "    80% {\n",
              "      border-color: transparent;\n",
              "      border-right-color: var(--fill-color);\n",
              "      border-bottom-color: var(--fill-color);\n",
              "    }\n",
              "    90% {\n",
              "      border-color: transparent;\n",
              "      border-bottom-color: var(--fill-color);\n",
              "    }\n",
              "  }\n",
              "</style>\n",
              "\n",
              "  <script>\n",
              "    async function quickchart(key) {\n",
              "      const quickchartButtonEl =\n",
              "        document.querySelector('#' + key + ' button');\n",
              "      quickchartButtonEl.disabled = true;  // To prevent multiple clicks.\n",
              "      quickchartButtonEl.classList.add('colab-df-spinner');\n",
              "      try {\n",
              "        const charts = await google.colab.kernel.invokeFunction(\n",
              "            'suggestCharts', [key], {});\n",
              "      } catch (error) {\n",
              "        console.error('Error during call to suggestCharts:', error);\n",
              "      }\n",
              "      quickchartButtonEl.classList.remove('colab-df-spinner');\n",
              "      quickchartButtonEl.classList.add('colab-df-quickchart-complete');\n",
              "    }\n",
              "    (() => {\n",
              "      let quickchartButtonEl =\n",
              "        document.querySelector('#df-0defd1ba-482d-43b8-be6c-e5b5d4dfd640 button');\n",
              "      quickchartButtonEl.style.display =\n",
              "        google.colab.kernel.accessAllowed ? 'block' : 'none';\n",
              "    })();\n",
              "  </script>\n",
              "</div>\n",
              "\n",
              "    </div>\n",
              "  </div>\n"
            ],
            "text/plain": [
              "   Anime Rank                       Anime Title  \\\n",
              "0           1  Fullmetal Alchemist: Brotherhood   \n",
              "1           1  Fullmetal Alchemist: Brotherhood   \n",
              "2           1  Fullmetal Alchemist: Brotherhood   \n",
              "3           1  Fullmetal Alchemist: Brotherhood   \n",
              "4           1  Fullmetal Alchemist: Brotherhood   \n",
              "\n",
              "                                           Anime URL          Username  \\\n",
              "0  https://myanimelist.net/anime/5114/Fullmetal_A...           tazillo   \n",
              "1  https://myanimelist.net/anime/5114/Fullmetal_A...          Archaeon   \n",
              "2  https://myanimelist.net/anime/5114/Fullmetal_A...  ChristopherKClaw   \n",
              "3  https://myanimelist.net/anime/5114/Fullmetal_A...    literaturenerd   \n",
              "4  https://myanimelist.net/anime/5114/Fullmetal_A...     M0nkeyD_Luffy   \n",
              "\n",
              "    Review Date        Episodes Watched  Review Likes  Overall Rating  \\\n",
              "0  Jan 25, 2010  64 of 64 episodes seen          3464              10   \n",
              "1  Nov 15, 2010  64 of 64 episodes seen          1311               9   \n",
              "2   Apr 7, 2015  64 of 64 episodes seen          1113               7   \n",
              "3  Apr 25, 2015  64 of 64 episodes seen           704               7   \n",
              "4  Jul 29, 2015  64 of 64 episodes seen           446               5   \n",
              "\n",
              "   Story Rating  Animation Rating  Sound Rating  Character Rating  \\\n",
              "0            10                 9             9                10   \n",
              "1             8                 9             9                 9   \n",
              "2             8                 8            10                 6   \n",
              "3             8                 8             8                 8   \n",
              "4             2                 7             7                 8   \n",
              "\n",
              "   Enjoyment Rating                                             Review  \n",
              "0                10  First of all, I have seen the original FMA and...  \n",
              "1                 9  Adaptations have long been a thorn in the side...  \n",
              "2                 7  Fullmetal Alchemist: Brotherhood gets an immen...  \n",
              "3                 8  Overview:\\nFMA Brotherhood is an anime that ne...  \n",
              "4                 5  Since I couldn't find any legitimate objective...  "
            ]
          },
          "execution_count": 4,
          "metadata": {},
          "output_type": "execute_result"
        }
      ],
      "source": [
        "df = pd.read_csv('/content/mal-top-10k-anime-details/MAL Anime Reviews 85k.csv')\n",
        "df.head()"
      ]
    },
    {
      "cell_type": "markdown",
      "metadata": {
        "id": "Z5WGEWFNA3Kn"
      },
      "source": [
        "# EDA(Exploratory Data Analysis)"
      ]
    },
    {
      "cell_type": "code",
      "execution_count": null,
      "metadata": {
        "colab": {
          "base_uri": "https://localhost:8080/"
        },
        "id": "7kzYpOkzVh38",
        "outputId": "a0995fce-0fe4-43f8-d7c1-9918f237c335"
      },
      "outputs": [
        {
          "name": "stdout",
          "output_type": "stream",
          "text": [
            "<class 'pandas.core.frame.DataFrame'>\n",
            "RangeIndex: 85953 entries, 0 to 85952\n",
            "Data columns (total 14 columns):\n",
            " #   Column            Non-Null Count  Dtype \n",
            "---  ------            --------------  ----- \n",
            " 0   Anime Rank        85953 non-null  int64 \n",
            " 1   Anime Title       85953 non-null  object\n",
            " 2   Anime URL         85953 non-null  object\n",
            " 3   Username          85953 non-null  object\n",
            " 4   Review Date       85953 non-null  object\n",
            " 5   Episodes Watched  85953 non-null  object\n",
            " 6   Review Likes      85953 non-null  int64 \n",
            " 7   Overall Rating    85953 non-null  int64 \n",
            " 8   Story Rating      85953 non-null  int64 \n",
            " 9   Animation Rating  85953 non-null  int64 \n",
            " 10  Sound Rating      85953 non-null  int64 \n",
            " 11  Character Rating  85953 non-null  int64 \n",
            " 12  Enjoyment Rating  85953 non-null  int64 \n",
            " 13  Review            85953 non-null  object\n",
            "dtypes: int64(8), object(6)\n",
            "memory usage: 9.2+ MB\n",
            "Dataset terdiri dari 85953 baris dan 14 kolom\n"
          ]
        }
      ],
      "source": [
        "df.info() # mengetahu informasi dari kolom\n",
        "print(f\"Dataset terdiri dari {df.shape[0]} baris dan {df.shape[1]} kolom\")"
      ]
    },
    {
      "cell_type": "markdown",
      "metadata": {
        "id": "Qtn7OItqRJT4"
      },
      "source": [
        "1. Menunjukkan jumlah baris (entri) dalam dataset, dengan indeks yang dimulai dari\n",
        "0 hingga 85952.\n",
        "\n",
        "2. Data columns (total 14 columns):\n",
        "Menunjukkan bahwa dataset memiliki 14 kolom.\n",
        "\n",
        "3. List of columns:\n",
        "  * Kolom-kolom yang ada pada dataset adalah sebagai berikut:\n",
        "\n",
        "  * Anime Rank: Peringkat anime berdasarkan pengguna.\n",
        "\n",
        "  * Anime Title: Judul anime.\n",
        "\n",
        "  * Anime URL: URL yang mengarah ke halaman anime.\n",
        "\n",
        "  * Username: Nama pengguna yang memberikan ulasan.\n",
        "\n",
        "  * Review Date: Tanggal ulasan ditulis.\n",
        "\n",
        "  * Episodes Watched: Jumlah episode yang sudah ditonton oleh pengguna.\n",
        "\n",
        "  * Review Likes: Jumlah suka (like) yang diterima ulasan.\n",
        "\n",
        "  * Overall Rating: Rating keseluruhan yang diberikan untuk anime.\n",
        "\n",
        "  * Story Rating: Rating untuk cerita anime.\n",
        "\n",
        "  * Animation Rating: Rating untuk animasi anime.\n",
        "\n",
        "  * Sound Rating: Rating untuk kualitas suara.\n",
        "\n",
        "  * Character Rating: Rating untuk karakter anime.\n",
        "\n",
        "  * Enjoyment Rating: Rating untuk kesenangan yang dirasakan selama menonton anime.\n",
        "\n",
        "  * Review: Isi ulasan yang ditulis oleh pengguna."
      ]
    },
    {
      "cell_type": "code",
      "execution_count": null,
      "metadata": {
        "colab": {
          "base_uri": "https://localhost:8080/",
          "height": 523
        },
        "id": "JSm8LVbkVjRg",
        "outputId": "185f0c14-6da4-4a57-ae5b-494376444486"
      },
      "outputs": [
        {
          "data": {
            "text/html": [
              "<div>\n",
              "<style scoped>\n",
              "    .dataframe tbody tr th:only-of-type {\n",
              "        vertical-align: middle;\n",
              "    }\n",
              "\n",
              "    .dataframe tbody tr th {\n",
              "        vertical-align: top;\n",
              "    }\n",
              "\n",
              "    .dataframe thead th {\n",
              "        text-align: right;\n",
              "    }\n",
              "</style>\n",
              "<table border=\"1\" class=\"dataframe\">\n",
              "  <thead>\n",
              "    <tr style=\"text-align: right;\">\n",
              "      <th></th>\n",
              "      <th>0</th>\n",
              "    </tr>\n",
              "  </thead>\n",
              "  <tbody>\n",
              "    <tr>\n",
              "      <th>Anime Rank</th>\n",
              "      <td>0</td>\n",
              "    </tr>\n",
              "    <tr>\n",
              "      <th>Anime Title</th>\n",
              "      <td>0</td>\n",
              "    </tr>\n",
              "    <tr>\n",
              "      <th>Anime URL</th>\n",
              "      <td>0</td>\n",
              "    </tr>\n",
              "    <tr>\n",
              "      <th>Username</th>\n",
              "      <td>0</td>\n",
              "    </tr>\n",
              "    <tr>\n",
              "      <th>Review Date</th>\n",
              "      <td>0</td>\n",
              "    </tr>\n",
              "    <tr>\n",
              "      <th>Episodes Watched</th>\n",
              "      <td>0</td>\n",
              "    </tr>\n",
              "    <tr>\n",
              "      <th>Review Likes</th>\n",
              "      <td>0</td>\n",
              "    </tr>\n",
              "    <tr>\n",
              "      <th>Overall Rating</th>\n",
              "      <td>0</td>\n",
              "    </tr>\n",
              "    <tr>\n",
              "      <th>Story Rating</th>\n",
              "      <td>0</td>\n",
              "    </tr>\n",
              "    <tr>\n",
              "      <th>Animation Rating</th>\n",
              "      <td>0</td>\n",
              "    </tr>\n",
              "    <tr>\n",
              "      <th>Sound Rating</th>\n",
              "      <td>0</td>\n",
              "    </tr>\n",
              "    <tr>\n",
              "      <th>Character Rating</th>\n",
              "      <td>0</td>\n",
              "    </tr>\n",
              "    <tr>\n",
              "      <th>Enjoyment Rating</th>\n",
              "      <td>0</td>\n",
              "    </tr>\n",
              "    <tr>\n",
              "      <th>Review</th>\n",
              "      <td>0</td>\n",
              "    </tr>\n",
              "  </tbody>\n",
              "</table>\n",
              "</div><br><label><b>dtype:</b> int64</label>"
            ],
            "text/plain": [
              "Anime Rank          0\n",
              "Anime Title         0\n",
              "Anime URL           0\n",
              "Username            0\n",
              "Review Date         0\n",
              "Episodes Watched    0\n",
              "Review Likes        0\n",
              "Overall Rating      0\n",
              "Story Rating        0\n",
              "Animation Rating    0\n",
              "Sound Rating        0\n",
              "Character Rating    0\n",
              "Enjoyment Rating    0\n",
              "Review              0\n",
              "dtype: int64"
            ]
          },
          "execution_count": 6,
          "metadata": {},
          "output_type": "execute_result"
        }
      ],
      "source": [
        "df.isnull().sum() # Memriksa Koolom yang berisi null"
      ]
    },
    {
      "cell_type": "markdown",
      "metadata": {
        "id": "JqbR5EW5Rj8W"
      },
      "source": [
        "Menghitung jumlah nilai yang hilang (missing values) di setiap kolom dalam dataset."
      ]
    },
    {
      "cell_type": "code",
      "execution_count": null,
      "metadata": {
        "colab": {
          "base_uri": "https://localhost:8080/"
        },
        "id": "95STHxn6VxmZ",
        "outputId": "2e8424be-d58c-4683-a285-bd8219b34df0"
      },
      "outputs": [
        {
          "name": "stdout",
          "output_type": "stream",
          "text": [
            "Jumlah user unik: 35,118\n",
            "Jumlah anime unik: 4,315\n"
          ]
        }
      ],
      "source": [
        "print(f\"Jumlah user unik: {df['Username'].nunique():,}\")\n",
        "print(f\"Jumlah anime unik: {df['Anime Title'].nunique():,}\")"
      ]
    },
    {
      "cell_type": "markdown",
      "metadata": {
        "id": "8mWAi5uCRzxd"
      },
      "source": [
        "Menampilkan jumlah user dan anime yang unik dalam dataset, masing-masing berdasarkan kolom 'Username' dan 'Anime Title'."
      ]
    },
    {
      "cell_type": "markdown",
      "metadata": {
        "id": "d4mx1SM4fE3L"
      },
      "source": [
        "## Top 10 Anime yang di Nilai Atau Di Review"
      ]
    },
    {
      "cell_type": "markdown",
      "metadata": {
        "id": "pUpZRGHBS7RI"
      },
      "source": [
        "Tujuan dari analisis ini adalah untuk mengetahui anime yang mendapat perhatian atau popularitas tertinggi berdasarkan seberapa sering anime tersebut dinilai atau direview. Hal ini membantu untuk mengidentifikasi anime yang sedang tren atau menarik bagi banyak orang, serta memberikan wawasan mengenai preferensi atau minat pengguna dalam kategori anime tertentu."
      ]
    },
    {
      "cell_type": "code",
      "execution_count": null,
      "metadata": {
        "colab": {
          "base_uri": "https://localhost:8080/",
          "height": 472
        },
        "id": "YYQvl920WBQ9",
        "outputId": "ef9d9e21-a7d8-4867-8e65-ca38c4962c5e"
      },
      "outputs": [
        {
          "data": {
            "image/png": "[encoded data removed]",
            "text/plain": [
              "<Figure size 640x480 with 1 Axes>"
            ]
          },
          "metadata": {},
          "output_type": "display_data"
        }
      ],
      "source": [
        "top_anime = df['Anime Title'].value_counts().head(10)\n",
        "top_anime.plot(kind='barh', title='Top 10 Anime Paling Banyak Dinilai')\n",
        "plt.xlabel('Jumlah Penilaian')\n",
        "plt.show()"
      ]
    },
    {
      "cell_type": "markdown",
      "metadata": {
        "id": "YX6zJuApS8yH"
      },
      "source": [
        "Pada visualisasi diatas  sekitar 10 anime teratas mendapat penilaian sebanyak 80 review atau penilaian"
      ]
    },
    {
      "cell_type": "markdown",
      "metadata": {
        "id": "j4irFI74TIRO"
      },
      "source": [
        "## Distribusi Overall Rating"
      ]
    },
    {
      "cell_type": "markdown",
      "metadata": {
        "id": "R9S97LrfTrp7"
      },
      "source": [
        "Untuk memvisualisasikan sebaran atau distribusi rating keseluruhan yang diberikan oleh pengguna pada anime dalam dataset. Dengan mengetahui distribusi rating, kita bisa memahami bagaimana pengguna memberikan penilaian terhadap anime secara umum, apakah kebanyakan rating cenderung tinggi, rendah, atau tersebar merata di berbagai kategori rating. Ini membantu untuk mengidentifikasi tren umum dalam penilaian pengguna terhadap anime dan juga dapat menunjukkan bias atau ketidakseimbangan dalam pemberian rating."
      ]
    },
    {
      "cell_type": "code",
      "execution_count": null,
      "metadata": {
        "colab": {
          "base_uri": "https://localhost:8080/",
          "height": 574
        },
        "id": "lGZcloOSDbLa",
        "outputId": "f832ddf0-d337-4c19-acd0-1d5141db8178"
      },
      "outputs": [
        {
          "name": "stderr",
          "output_type": "stream",
          "text": [
            "<ipython-input-9-abb4900a21e9>:2: FutureWarning: \n",
            "\n",
            "Passing `palette` without assigning `hue` is deprecated and will be removed in v0.14.0. Assign the `x` variable to `hue` and set `legend=False` for the same effect.\n",
            "\n",
            "  sns.countplot(x='Overall Rating', data=df, palette=\"Set2\")\n"
          ]
        },
        {
          "data": {
            "image/png": "[encoded data removed]",
            "text/plain": [
              "<Figure size 800x500 with 1 Axes>"
            ]
          },
          "metadata": {},
          "output_type": "display_data"
        }
      ],
      "source": [
        "plt.figure(figsize=(8, 5))\n",
        "sns.countplot(x='Overall Rating', data=df, palette=\"Set2\")\n",
        "plt.title(\"Distribusi Overall Rating\")\n",
        "plt.xlabel(\"Rating\")\n",
        "plt.ylabel(\"Jumlah\")\n",
        "plt.show()\n"
      ]
    },
    {
      "cell_type": "markdown",
      "metadata": {
        "id": "PpKaJn5ETyTc"
      },
      "source": [
        "Berdasarkan diagram diatas, nilai rating yang paling umum diberikan oleh user yaitu 8, dan yang paling rendah 1"
      ]
    },
    {
      "cell_type": "markdown",
      "metadata": {
        "id": "bhAkeNTeT8Ji"
      },
      "source": [
        "## Korelasi Antar Rating"
      ]
    },
    {
      "cell_type": "markdown",
      "metadata": {
        "id": "fvTuHM1CUKVR"
      },
      "source": [
        "Untuk menganalisis hubungan antara berbagai kategori rating yang diberikan oleh pengguna, seperti Story Rating, Animation Rating, Sound Rating, Character Rating, dan Enjoyment Rating. Dengan mengetahui korelasi antar rating, kita dapat memahami apakah pengguna yang memberikan rating tinggi pada satu aspek anime (misalnya cerita) juga cenderung memberikan rating tinggi pada aspek lainnya (seperti animasi atau karakter). Hal ini membantu untuk mengidentifikasi pola atau hubungan yang mungkin ada antara kualitas berbagai elemen anime dalam persepsi pengguna."
      ]
    },
    {
      "cell_type": "code",
      "execution_count": null,
      "metadata": {
        "colab": {
          "base_uri": "https://localhost:8080/",
          "height": 654
        },
        "id": "yBe6o5hhBq_O",
        "outputId": "47c01804-646e-497c-a435-0db63e5f7083"
      },
      "outputs": [
        {
          "data": {
            "image/png": "[encoded data removed]",
            "text/plain": [
              "<Figure size 1000x600 with 2 Axes>"
            ]
          },
          "metadata": {},
          "output_type": "display_data"
        }
      ],
      "source": [
        "rating_cols = ['Overall Rating', 'Story Rating', 'Animation Rating', 'Sound Rating', 'Character Rating', 'Enjoyment Rating']\n",
        "correlation = df[rating_cols].corr()\n",
        "\n",
        "plt.figure(figsize=(10,6))\n",
        "sns.heatmap(correlation, annot=True, cmap='coolwarm', fmt='.2f')\n",
        "plt.title(\"Korelasi Antar Rating Aspek\")\n",
        "plt.show()"
      ]
    },
    {
      "cell_type": "markdown",
      "metadata": {
        "id": "M0vFMrA0UZST"
      },
      "source": [
        "Matriks korelasi rating aspek menunjukkan hubungan antar kategori seperti Overall, Story, Animation, Sound, Character, dan Enjoyment. Nilai korelasi tertinggi (1.00) terlihat pada hubungan masing-masing kategori dengan dirinya sendiri, yang diharapkan. Korelasi tertinggi antar kategori berbeda ada antara Story dan Overall (0.73), Character dan Overall (0.73), serta Character dan Enjoyment (0.86), menunjukkan bahwa aspek cerita dan karakter memiliki pengaruh kuat terhadap rating keseluruhan dan kepuasan. Sebaliknya, korelasi terendah terlihat antara Animation dan Overall (0.48) serta Sound dan Overall (0.52), mengindikasikan bahwa animasi dan suara memiliki pengaruh lebih kecil terhadap rating keseluruhan. Secara umum, aspek Story, Character, dan Enjoyment saling berkorelasi cukup kuat (0.84-0.86), sementara Animation dan Sound cenderung memiliki korelasi lebih rendah dengan aspek lainnya (0.48-0.81).\n",
        "\n"
      ]
    },
    {
      "cell_type": "markdown",
      "metadata": {
        "id": "RCFMAGjgUeoA"
      },
      "source": [
        "## Jumlah Review Per Tahun"
      ]
    },
    {
      "cell_type": "markdown",
      "metadata": {
        "id": "UhZy4Ix7UkOy"
      },
      "source": [
        "Untuk menganalisis tren atau pola jumlah ulasan yang diberikan oleh pengguna setiap tahunnya. Dengan mengetahui jumlah review yang diberikan per tahun, kita dapat melihat apakah ada peningkatan atau penurunan aktivitas pengguna dalam memberikan ulasan seiring waktu. Hal ini juga bisa memberikan insight tentang popularitas anime pada periode tertentu, serta memberikan gambaran tentang kecenderungan pengguna dalam memberikan feedback sepanjang waktu."
      ]
    },
    {
      "cell_type": "markdown",
      "metadata": {
        "id": "2yMwjl1yUM3L"
      },
      "source": []
    },
    {
      "cell_type": "code",
      "execution_count": null,
      "metadata": {
        "colab": {
          "base_uri": "https://localhost:8080/",
          "height": 672
        },
        "id": "8OhlTx8dDOIs",
        "outputId": "4fa01c0d-5b5b-4607-dd00-8cfcca0f5340"
      },
      "outputs": [
        {
          "name": "stderr",
          "output_type": "stream",
          "text": [
            "<ipython-input-11-f3a8e8660f00>:5: FutureWarning: \n",
            "\n",
            "Passing `palette` without assigning `hue` is deprecated and will be removed in v0.14.0. Assign the `x` variable to `hue` and set `legend=False` for the same effect.\n",
            "\n",
            "  sns.countplot(data=df, x='Review Year', palette='crest')\n"
          ]
        },
        {
          "data": {
            "image/png": "[encoded data removed]",
            "text/plain": [
              "<Figure size 1200x600 with 1 Axes>"
            ]
          },
          "metadata": {},
          "output_type": "display_data"
        }
      ],
      "source": [
        "df['Review Date'] = pd.to_datetime(df['Review Date'], errors='coerce')\n",
        "df['Review Year'] = df['Review Date'].dt.year\n",
        "\n",
        "plt.figure(figsize=(12,6))\n",
        "sns.countplot(data=df, x='Review Year', palette='crest')\n",
        "plt.title(\"Jumlah Review per Tahun\")\n",
        "plt.xlabel(\"Tahun\")\n",
        "plt.ylabel(\"Jumlah Review\")\n",
        "plt.xticks(rotation=45)\n",
        "plt.show()\n"
      ]
    },
    {
      "cell_type": "markdown",
      "metadata": {
        "id": "RJC9bR0IUwRP"
      },
      "source": [
        "Pada visualisasai diatas review di mulai dari tahun 2007 dan review tertinggi atau terbanyak di berikan pada tahun 2020"
      ]
    },
    {
      "cell_type": "markdown",
      "metadata": {
        "id": "bFgLyQPHX98s"
      },
      "source": [
        "### Data Preprocessing"
      ]
    },
    {
      "cell_type": "markdown",
      "metadata": {
        "id": "NtKhTeMZVtML"
      },
      "source": [
        "Data di ambil dan membuat df_filtered dengan user yang memberikan rating > 0"
      ]
    },
    {
      "cell_type": "code",
      "execution_count": null,
      "metadata": {
        "id": "UHfrxwbWfcsP"
      },
      "outputs": [],
      "source": [
        "# Ambil hanya user yang memberikan rating\n",
        "df_filtered = df[df['Overall Rating'] > 0]"
      ]
    },
    {
      "cell_type": "markdown",
      "metadata": {
        "id": "g5kebdYzV1Ui"
      },
      "source": [
        "Kolom yang di pilih dan yang akan digunakan Username, Anime Title, Overall Rating"
      ]
    },
    {
      "cell_type": "code",
      "execution_count": null,
      "metadata": {
        "id": "N__I9Tw7gcd-"
      },
      "outputs": [],
      "source": [
        "df_filtered = df_filtered[['Username', 'Anime Title', 'Overall Rating']]"
      ]
    },
    {
      "cell_type": "markdown",
      "metadata": {
        "id": "vaKymObsV-Le"
      },
      "source": [
        "Rename Kolom agar lebih mudah penggunaanya"
      ]
    },
    {
      "cell_type": "code",
      "execution_count": null,
      "metadata": {
        "id": "yVEEnlZY68vL"
      },
      "outputs": [],
      "source": [
        "# Rename kolom dengan .rename() dan inplace=True\n",
        "df_filtered = df_filtered.rename(columns={\n",
        "    'Username': 'user_id',\n",
        "    'Anime Title': 'anime_id',\n",
        "    'Overall Rating': 'rating'\n",
        "})"
      ]
    },
    {
      "cell_type": "markdown",
      "metadata": {
        "id": "ub2XrQtiWCiL"
      },
      "source": [
        "Normalisasi rating dengan rentang 0-1"
      ]
    },
    {
      "cell_type": "code",
      "execution_count": null,
      "metadata": {
        "id": "-qcmckZS8ooa"
      },
      "outputs": [],
      "source": [
        "# Normalisasi rating\n",
        "df_filtered['rating'] = df_filtered['rating'] / 10.0"
      ]
    },
    {
      "cell_type": "markdown",
      "metadata": {
        "id": "HGEnUQ4B6y-q"
      },
      "source": [
        "Encode Username dan Anime Title ke bentuk angka"
      ]
    },
    {
      "cell_type": "code",
      "execution_count": null,
      "metadata": {
        "colab": {
          "base_uri": "https://localhost:8080/",
          "height": 206
        },
        "id": "0RLNXFqp6yCY",
        "outputId": "407f9aa4-55a3-4790-bd26-e769b999cd7e"
      },
      "outputs": [
        {
          "data": {
            "application/vnd.google.colaboratory.intrinsic+json": {
              "summary": "{\n  \"name\": \"df_filtered\",\n  \"rows\": 85953,\n  \"fields\": [\n    {\n      \"column\": \"user_id\",\n      \"properties\": {\n        \"dtype\": \"category\",\n        \"num_unique_values\": 35118,\n        \"samples\": [\n          \"hotbuysugg\",\n          \"hikabot\",\n          \"emolys\"\n        ],\n        \"semantic_type\": \"\",\n        \"description\": \"\"\n      }\n    },\n    {\n      \"column\": \"anime_id\",\n      \"properties\": {\n        \"dtype\": \"category\",\n        \"num_unique_values\": 4315,\n        \"samples\": [\n          \"Suzumiya Haruhi no Shoushitsu\",\n          \"Yes! Precure 5\",\n          \"Dr. Slump: Arale-chan\"\n        ],\n        \"semantic_type\": \"\",\n        \"description\": \"\"\n      }\n    },\n    {\n      \"column\": \"rating\",\n      \"properties\": {\n        \"dtype\": \"number\",\n        \"std\": 0.21744597038711025,\n        \"min\": 0.1,\n        \"max\": 1.0,\n        \"num_unique_values\": 10,\n        \"samples\": [\n          0.1,\n          0.9,\n          0.8\n        ],\n        \"semantic_type\": \"\",\n        \"description\": \"\"\n      }\n    },\n    {\n      \"column\": \"user\",\n      \"properties\": {\n        \"dtype\": \"number\",\n        \"std\": 10000,\n        \"min\": 0,\n        \"max\": 35117,\n        \"num_unique_values\": 35118,\n        \"samples\": [\n          27082,\n          26976,\n          25877\n        ],\n        \"semantic_type\": \"\",\n        \"description\": \"\"\n      }\n    },\n    {\n      \"column\": \"anime\",\n      \"properties\": {\n        \"dtype\": \"number\",\n        \"std\": 1242,\n        \"min\": 0,\n        \"max\": 4314,\n        \"num_unique_values\": 4315,\n        \"samples\": [\n          3660,\n          4171,\n          858\n        ],\n        \"semantic_type\": \"\",\n        \"description\": \"\"\n      }\n    }\n  ]\n}",
              "type": "dataframe",
              "variable_name": "df_filtered"
            },
            "text/html": [
              "\n",
              "  <div id=\"df-31ad909a-6dfb-4632-a57c-f0b8726bc94b\" class=\"colab-df-container\">\n",
              "    <div>\n",
              "<style scoped>\n",
              "    .dataframe tbody tr th:only-of-type {\n",
              "        vertical-align: middle;\n",
              "    }\n",
              "\n",
              "    .dataframe tbody tr th {\n",
              "        vertical-align: top;\n",
              "    }\n",
              "\n",
              "    .dataframe thead th {\n",
              "        text-align: right;\n",
              "    }\n",
              "</style>\n",
              "<table border=\"1\" class=\"dataframe\">\n",
              "  <thead>\n",
              "    <tr style=\"text-align: right;\">\n",
              "      <th></th>\n",
              "      <th>user_id</th>\n",
              "      <th>anime_id</th>\n",
              "      <th>rating</th>\n",
              "      <th>user</th>\n",
              "      <th>anime</th>\n",
              "    </tr>\n",
              "  </thead>\n",
              "  <tbody>\n",
              "    <tr>\n",
              "      <th>0</th>\n",
              "      <td>tazillo</td>\n",
              "      <td>Fullmetal Alchemist: Brotherhood</td>\n",
              "      <td>1.0</td>\n",
              "      <td>33302</td>\n",
              "      <td>1047</td>\n",
              "    </tr>\n",
              "    <tr>\n",
              "      <th>1</th>\n",
              "      <td>Archaeon</td>\n",
              "      <td>Fullmetal Alchemist: Brotherhood</td>\n",
              "      <td>0.9</td>\n",
              "      <td>1838</td>\n",
              "      <td>1047</td>\n",
              "    </tr>\n",
              "    <tr>\n",
              "      <th>2</th>\n",
              "      <td>ChristopherKClaw</td>\n",
              "      <td>Fullmetal Alchemist: Brotherhood</td>\n",
              "      <td>0.7</td>\n",
              "      <td>3887</td>\n",
              "      <td>1047</td>\n",
              "    </tr>\n",
              "    <tr>\n",
              "      <th>3</th>\n",
              "      <td>literaturenerd</td>\n",
              "      <td>Fullmetal Alchemist: Brotherhood</td>\n",
              "      <td>0.7</td>\n",
              "      <td>28946</td>\n",
              "      <td>1047</td>\n",
              "    </tr>\n",
              "    <tr>\n",
              "      <th>4</th>\n",
              "      <td>M0nkeyD_Luffy</td>\n",
              "      <td>Fullmetal Alchemist: Brotherhood</td>\n",
              "      <td>0.5</td>\n",
              "      <td>11912</td>\n",
              "      <td>1047</td>\n",
              "    </tr>\n",
              "  </tbody>\n",
              "</table>\n",
              "</div>\n",
              "    <div class=\"colab-df-buttons\">\n",
              "\n",
              "  <div class=\"colab-df-container\">\n",
              "    <button class=\"colab-df-convert\" onclick=\"convertToInteractive('df-31ad909a-6dfb-4632-a57c-f0b8726bc94b')\"\n",
              "            title=\"Convert this dataframe to an interactive table.\"\n",
              "            style=\"display:none;\">\n",
              "\n",
              "  <svg xmlns=\"http://www.w3.org/2000/svg\" height=\"24px\" viewBox=\"0 -960 960 960\">\n",
              "    <path d=\"M120-120v-720h720v720H120Zm60-500h600v-160H180v160Zm220 220h160v-160H400v160Zm0 220h160v-160H400v160ZM180-400h160v-160H180v160Zm440 0h160v-160H620v160ZM180-180h160v-160H180v160Zm440 0h160v-160H620v160Z\"/>\n",
              "  </svg>\n",
              "    </button>\n",
              "\n",
              "  <style>\n",
              "    .colab-df-container {\n",
              "      display:flex;\n",
              "      gap: 12px;\n",
              "    }\n",
              "\n",
              "    .colab-df-convert {\n",
              "      background-color: #E8F0FE;\n",
              "      border: none;\n",
              "      border-radius: 50%;\n",
              "      cursor: pointer;\n",
              "      display: none;\n",
              "      fill: #1967D2;\n",
              "      height: 32px;\n",
              "      padding: 0 0 0 0;\n",
              "      width: 32px;\n",
              "    }\n",
              "\n",
              "    .colab-df-convert:hover {\n",
              "      background-color: #E2EBFA;\n",
              "      box-shadow: 0px 1px 2px rgba(60, 64, 67, 0.3), 0px 1px 3px 1px rgba(60, 64, 67, 0.15);\n",
              "      fill: #174EA6;\n",
              "    }\n",
              "\n",
              "    .colab-df-buttons div {\n",
              "      margin-bottom: 4px;\n",
              "    }\n",
              "\n",
              "    [theme=dark] .colab-df-convert {\n",
              "      background-color: #3B4455;\n",
              "      fill: #D2E3FC;\n",
              "    }\n",
              "\n",
              "    [theme=dark] .colab-df-convert:hover {\n",
              "      background-color: #434B5C;\n",
              "      box-shadow: 0px 1px 3px 1px rgba(0, 0, 0, 0.15);\n",
              "      filter: drop-shadow(0px 1px 2px rgba(0, 0, 0, 0.3));\n",
              "      fill: #FFFFFF;\n",
              "    }\n",
              "  </style>\n",
              "\n",
              "    <script>\n",
              "      const buttonEl =\n",
              "        document.querySelector('#df-31ad909a-6dfb-4632-a57c-f0b8726bc94b button.colab-df-convert');\n",
              "      buttonEl.style.display =\n",
              "        google.colab.kernel.accessAllowed ? 'block' : 'none';\n",
              "\n",
              "      async function convertToInteractive(key) {\n",
              "        const element = document.querySelector('#df-31ad909a-6dfb-4632-a57c-f0b8726bc94b');\n",
              "        const dataTable =\n",
              "          await google.colab.kernel.invokeFunction('convertToInteractive',\n",
              "                                                    [key], {});\n",
              "        if (!dataTable) return;\n",
              "\n",
              "        const docLinkHtml = 'Like what you see? Visit the ' +\n",
              "          '<a target=\"_blank\" href=https://colab.research.google.com/notebooks/data_table.ipynb>data table notebook</a>'\n",
              "          + ' to learn more about interactive tables.';\n",
              "        element.innerHTML = '';\n",
              "        dataTable['output_type'] = 'display_data';\n",
              "        await google.colab.output.renderOutput(dataTable, element);\n",
              "        const docLink = document.createElement('div');\n",
              "        docLink.innerHTML = docLinkHtml;\n",
              "        element.appendChild(docLink);\n",
              "      }\n",
              "    </script>\n",
              "  </div>\n",
              "\n",
              "\n",
              "<div id=\"df-89580ef2-3663-43f4-85ac-dac2e2a9224b\">\n",
              "  <button class=\"colab-df-quickchart\" onclick=\"quickchart('df-89580ef2-3663-43f4-85ac-dac2e2a9224b')\"\n",
              "            title=\"Suggest charts\"\n",
              "            style=\"display:none;\">\n",
              "\n",
              "<svg xmlns=\"http://www.w3.org/2000/svg\" height=\"24px\"viewBox=\"0 0 24 24\"\n",
              "     width=\"24px\">\n",
              "    <g>\n",
              "        <path d=\"M19 3H5c-1.1 0-2 .9-2 2v14c0 1.1.9 2 2 2h14c1.1 0 2-.9 2-2V5c0-1.1-.9-2-2-2zM9 17H7v-7h2v7zm4 0h-2V7h2v10zm4 0h-2v-4h2v4z\"/>\n",
              "    </g>\n",
              "</svg>\n",
              "  </button>\n",
              "\n",
              "<style>\n",
              "  .colab-df-quickchart {\n",
              "      --bg-color: #E8F0FE;\n",
              "      --fill-color: #1967D2;\n",
              "      --hover-bg-color: #E2EBFA;\n",
              "      --hover-fill-color: #174EA6;\n",
              "      --disabled-fill-color: #AAA;\n",
              "      --disabled-bg-color: #DDD;\n",
              "  }\n",
              "\n",
              "  [theme=dark] .colab-df-quickchart {\n",
              "      --bg-color: #3B4455;\n",
              "      --fill-color: #D2E3FC;\n",
              "      --hover-bg-color: #434B5C;\n",
              "      --hover-fill-color: #FFFFFF;\n",
              "      --disabled-bg-color: #3B4455;\n",
              "      --disabled-fill-color: #666;\n",
              "  }\n",
              "\n",
              "  .colab-df-quickchart {\n",
              "    background-color: var(--bg-color);\n",
              "    border: none;\n",
              "    border-radius: 50%;\n",
              "    cursor: pointer;\n",
              "    display: none;\n",
              "    fill: var(--fill-color);\n",
              "    height: 32px;\n",
              "    padding: 0;\n",
              "    width: 32px;\n",
              "  }\n",
              "\n",
              "  .colab-df-quickchart:hover {\n",
              "    background-color: var(--hover-bg-color);\n",
              "    box-shadow: 0 1px 2px rgba(60, 64, 67, 0.3), 0 1px 3px 1px rgba(60, 64, 67, 0.15);\n",
              "    fill: var(--button-hover-fill-color);\n",
              "  }\n",
              "\n",
              "  .colab-df-quickchart-complete:disabled,\n",
              "  .colab-df-quickchart-complete:disabled:hover {\n",
              "    background-color: var(--disabled-bg-color);\n",
              "    fill: var(--disabled-fill-color);\n",
              "    box-shadow: none;\n",
              "  }\n",
              "\n",
              "  .colab-df-spinner {\n",
              "    border: 2px solid var(--fill-color);\n",
              "    border-color: transparent;\n",
              "    border-bottom-color: var(--fill-color);\n",
              "    animation:\n",
              "      spin 1s steps(1) infinite;\n",
              "  }\n",
              "\n",
              "  @keyframes spin {\n",
              "    0% {\n",
              "      border-color: transparent;\n",
              "      border-bottom-color: var(--fill-color);\n",
              "      border-left-color: var(--fill-color);\n",
              "    }\n",
              "    20% {\n",
              "      border-color: transparent;\n",
              "      border-left-color: var(--fill-color);\n",
              "      border-top-color: var(--fill-color);\n",
              "    }\n",
              "    30% {\n",
              "      border-color: transparent;\n",
              "      border-left-color: var(--fill-color);\n",
              "      border-top-color: var(--fill-color);\n",
              "      border-right-color: var(--fill-color);\n",
              "    }\n",
              "    40% {\n",
              "      border-color: transparent;\n",
              "      border-right-color: var(--fill-color);\n",
              "      border-top-color: var(--fill-color);\n",
              "    }\n",
              "    60% {\n",
              "      border-color: transparent;\n",
              "      border-right-color: var(--fill-color);\n",
              "    }\n",
              "    80% {\n",
              "      border-color: transparent;\n",
              "      border-right-color: var(--fill-color);\n",
              "      border-bottom-color: var(--fill-color);\n",
              "    }\n",
              "    90% {\n",
              "      border-color: transparent;\n",
              "      border-bottom-color: var(--fill-color);\n",
              "    }\n",
              "  }\n",
              "</style>\n",
              "\n",
              "  <script>\n",
              "    async function quickchart(key) {\n",
              "      const quickchartButtonEl =\n",
              "        document.querySelector('#' + key + ' button');\n",
              "      quickchartButtonEl.disabled = true;  // To prevent multiple clicks.\n",
              "      quickchartButtonEl.classList.add('colab-df-spinner');\n",
              "      try {\n",
              "        const charts = await google.colab.kernel.invokeFunction(\n",
              "            'suggestCharts', [key], {});\n",
              "      } catch (error) {\n",
              "        console.error('Error during call to suggestCharts:', error);\n",
              "      }\n",
              "      quickchartButtonEl.classList.remove('colab-df-spinner');\n",
              "      quickchartButtonEl.classList.add('colab-df-quickchart-complete');\n",
              "    }\n",
              "    (() => {\n",
              "      let quickchartButtonEl =\n",
              "        document.querySelector('#df-89580ef2-3663-43f4-85ac-dac2e2a9224b button');\n",
              "      quickchartButtonEl.style.display =\n",
              "        google.colab.kernel.accessAllowed ? 'block' : 'none';\n",
              "    })();\n",
              "  </script>\n",
              "</div>\n",
              "\n",
              "    </div>\n",
              "  </div>\n"
            ],
            "text/plain": [
              "            user_id                          anime_id  rating   user  anime\n",
              "0           tazillo  Fullmetal Alchemist: Brotherhood     1.0  33302   1047\n",
              "1          Archaeon  Fullmetal Alchemist: Brotherhood     0.9   1838   1047\n",
              "2  ChristopherKClaw  Fullmetal Alchemist: Brotherhood     0.7   3887   1047\n",
              "3    literaturenerd  Fullmetal Alchemist: Brotherhood     0.7  28946   1047\n",
              "4     M0nkeyD_Luffy  Fullmetal Alchemist: Brotherhood     0.5  11912   1047"
            ]
          },
          "execution_count": 49,
          "metadata": {},
          "output_type": "execute_result"
        }
      ],
      "source": [
        "from sklearn.preprocessing import LabelEncoder\n",
        "\n",
        "# Inisialisasi encoder\n",
        "user_encoder = LabelEncoder()\n",
        "anime_encoder = LabelEncoder()\n",
        "\n",
        "# Encode user_id dan anime_id\n",
        "df_filtered['user'] = user_encoder.fit_transform(df_filtered['user_id'])\n",
        "df_filtered['anime'] = anime_encoder.fit_transform(df_filtered['anime_id'])\n",
        "\n",
        "# Total user dan anime unik\n",
        "total_users = df_filtered['user'].nunique()\n",
        "total_animes = df_filtered['anime'].nunique()\n",
        "\n",
        "# Lihat hasil encode\n",
        "df_filtered.head()"
      ]
    },
    {
      "cell_type": "markdown",
      "metadata": {
        "id": "9ICO2-E0YxzD"
      },
      "source": [
        "#### Split Dataset"
      ]
    },
    {
      "cell_type": "markdown",
      "metadata": {
        "id": "rb-O7cCAWK0A"
      },
      "source": [
        "Split Dataset dengan Ratio 80:20"
      ]
    },
    {
      "cell_type": "code",
      "execution_count": null,
      "metadata": {
        "colab": {
          "base_uri": "https://localhost:8080/"
        },
        "id": "8HJokQbxX98s",
        "outputId": "b5ba6157-f8bb-4d02-eabd-e87cdc3489e6"
      },
      "outputs": [
        {
          "name": "stdout",
          "output_type": "stream",
          "text": [
            "Training data: (68762, 2)\n",
            "Validation data: (17191, 2)\n"
          ]
        }
      ],
      "source": [
        "from sklearn.model_selection import train_test_split\n",
        "import numpy as np\n",
        "\n",
        "x = df_filtered[['user', 'anime']].values\n",
        "y = df_filtered['rating'].values\n",
        "x_train, x_val, y_train, y_val = train_test_split(x, y, test_size=0.2, random_state=42)\n",
        "\n",
        "num_users = df_filtered['user'].nunique()\n",
        "num_anime = df_filtered['anime'].nunique()\n",
        "embedding_size = 50\n",
        "\n",
        "\n",
        "# Cek ukuran data\n",
        "print(\"Training data:\", x_train.shape)\n",
        "print(\"Validation data:\", x_val.shape)\n"
      ]
    },
    {
      "cell_type": "markdown",
      "metadata": {
        "id": "nc-Ph-oIYAUU"
      },
      "source": [
        "## Modelling"
      ]
    },
    {
      "cell_type": "markdown",
      "metadata": {
        "id": "daFHKfwcWYVw"
      },
      "source": [
        "Membuat dan implementasi dari sebuah custom recommender system model menggunakan TensorFlow dan Keras, yang dirancang untuk merekomendasikan anime berdasarkan interaksi antara pengguna dan anime. Model ini menggunakan pendekatan collaborative filtering dengan memanfaatkan embedding layers untuk merepresentasikan pengguna (user_embedding) dan anime (anime_embedding) dalam bentuk vektor berdimensi rendah. Selain itu, ditambahkan juga bias untuk pengguna dan anime guna menangkap kecenderungan umum masing-masing. Pada saat pemanggilan (call method), model menghitung dot product antara vektor pengguna dan anime untuk mengukur kecocokan, kemudian menambahkan bias dan melewatkan hasilnya melalui fungsi aktivasi sigmoid untuk mendapatkan skor prediksi antara 0 dan 1. Regularisasi L2 dan initializer he_normal digunakan untuk meningkatkan generalisasi model."
      ]
    },
    {
      "cell_type": "code",
      "execution_count": null,
      "metadata": {
        "id": "HNB6bioXjxFW"
      },
      "outputs": [],
      "source": [
        "from tensorflow.keras.callbacks import EarlyStopping\n",
        "\n",
        "# Model class seperti sebelumnya\n",
        "class AnimeRecommender(tf.keras.Model):\n",
        "    def __init__(self, total_users, total_animes, embedding_size, **kwargs):\n",
        "        super(AnimeRecommender, self).__init__(**kwargs)\n",
        "        self.user_embedding = layers.Embedding(\n",
        "            input_dim=total_users,\n",
        "            output_dim=embedding_size,\n",
        "            embeddings_initializer=\"he_normal\",\n",
        "            embeddings_regularizer=keras.regularizers.l2(1e-6)\n",
        "        )\n",
        "        self.user_bias = layers.Embedding(total_users, 1)\n",
        "\n",
        "        self.anime_embedding = layers.Embedding(\n",
        "            input_dim=total_animes,\n",
        "            output_dim=embedding_size,\n",
        "            embeddings_initializer=\"he_normal\",\n",
        "            embeddings_regularizer=keras.regularizers.l2(1e-6)\n",
        "        )\n",
        "        self.anime_bias = layers.Embedding(total_animes, 1)\n",
        "\n",
        "    def call(self, inputs):\n",
        "        user_vector = self.user_embedding(inputs[:, 0])\n",
        "        anime_vector = self.anime_embedding(inputs[:, 1])\n",
        "        user_bias = self.user_bias(inputs[:, 0])\n",
        "        anime_bias = self.anime_bias(inputs[:, 1])\n",
        "\n",
        "        dot_product = tf.reduce_sum(user_vector * anime_vector, axis=1, keepdims=True)\n",
        "        x = dot_product + user_bias + anime_bias\n",
        "\n",
        "        return tf.nn.sigmoid(x)"
      ]
    },
    {
      "cell_type": "code",
      "execution_count": null,
      "metadata": {
        "id": "9ybT6_NQjy22"
      },
      "outputs": [],
      "source": [
        "# Inisialisasi model\n",
        "model = AnimeRecommender(total_users, total_animes, embedding_size=50)\n",
        "\n",
        "# Compile\n",
        "model.compile(\n",
        "    loss=tf.keras.losses.MeanSquaredError(),\n",
        "    optimizer=tf.keras.optimizers.Adam(learning_rate=0.001),\n",
        "    metrics=[\n",
        "        tf.keras.metrics.MeanAbsoluteError(name=\"mae\"),\n",
        "        tf.keras.metrics.RootMeanSquaredError(name=\"rmse\")\n",
        "    ]\n",
        ")"
      ]
    },
    {
      "cell_type": "markdown",
      "metadata": {
        "id": "5UBGfQ2IWixP"
      },
      "source": [
        " Model diinisialisasi dengan jumlah total pengguna, total anime, dan ukuran dimensi embedding (dalam hal ini 50). Setelah itu, model dikompilasi menggunakan fungsi loss Mean Squared Error (MSE) untuk mengukur seberapa jauh prediksi model dari nilai sebenarnya. Optimizer yang digunakan adalah Adam dengan learning rate sebesar 0.001, yang populer karena kemampuannya menyesuaikan learning rate secara adaptif selama pelatihan. Selain itu, dua metrik evaluasi ditambahkan yaitu Mean Absolute Error (MAE) dan Root Mean Squared Error (RMSE) untuk memantau performa model dalam hal akurasi prediksi rating selama proses pelatihan."
      ]
    },
    {
      "cell_type": "code",
      "execution_count": null,
      "metadata": {
        "colab": {
          "base_uri": "https://localhost:8080/"
        },
        "id": "kPxLd9uv8x4T",
        "outputId": "ed04d3aa-c5b2-4ee7-f551-e6c8265b97dd"
      },
      "outputs": [
        {
          "name": "stdout",
          "output_type": "stream",
          "text": [
            "Epoch 1/50\n",
            "\u001b[1m269/269\u001b[0m \u001b[32m━━━━━━━━━━━━━━━━━━━━\u001b[0m\u001b[37m\u001b[0m \u001b[1m11s\u001b[0m 40ms/step - loss: 0.1025 - mae: 0.2845 - rmse: 0.3199 - val_loss: 0.0968 - val_mae: 0.2763 - val_rmse: 0.3107\n",
            "Epoch 2/50\n",
            "\u001b[1m269/269\u001b[0m \u001b[32m━━━━━━━━━━━━━━━━━━━━\u001b[0m\u001b[37m\u001b[0m \u001b[1m19s\u001b[0m 35ms/step - loss: 0.0933 - mae: 0.2703 - rmse: 0.3047 - val_loss: 0.0904 - val_mae: 0.2651 - val_rmse: 0.2990\n",
            "Epoch 3/50\n",
            "\u001b[1m269/269\u001b[0m \u001b[32m━━━━━━━━━━━━━━━━━━━━\u001b[0m\u001b[37m\u001b[0m \u001b[1m9s\u001b[0m 32ms/step - loss: 0.0798 - mae: 0.2458 - rmse: 0.2799 - val_loss: 0.0828 - val_mae: 0.2476 - val_rmse: 0.2824\n",
            "Epoch 4/50\n",
            "\u001b[1m269/269\u001b[0m \u001b[32m━━━━━━━━━━━━━━━━━━━━\u001b[0m\u001b[37m\u001b[0m \u001b[1m10s\u001b[0m 31ms/step - loss: 0.0611 - mae: 0.2056 - rmse: 0.2395 - val_loss: 0.0775 - val_mae: 0.2310 - val_rmse: 0.2677\n",
            "Epoch 5/50\n",
            "\u001b[1m269/269\u001b[0m \u001b[32m━━━━━━━━━━━━━━━━━━━━\u001b[0m\u001b[37m\u001b[0m \u001b[1m10s\u001b[0m 32ms/step - loss: 0.0459 - mae: 0.1647 - rmse: 0.1981 - val_loss: 0.0755 - val_mae: 0.2203 - val_rmse: 0.2583\n",
            "Epoch 6/50\n",
            "\u001b[1m269/269\u001b[0m \u001b[32m━━━━━━━━━━━━━━━━━━━━\u001b[0m\u001b[37m\u001b[0m \u001b[1m10s\u001b[0m 33ms/step - loss: 0.0367 - mae: 0.1338 - rmse: 0.1653 - val_loss: 0.0749 - val_mae: 0.2139 - val_rmse: 0.2526\n",
            "Epoch 7/50\n",
            "\u001b[1m269/269\u001b[0m \u001b[32m━━━━━━━━━━━━━━━━━━━━\u001b[0m\u001b[37m\u001b[0m \u001b[1m9s\u001b[0m 28ms/step - loss: 0.0315 - mae: 0.1116 - rmse: 0.1414 - val_loss: 0.0748 - val_mae: 0.2099 - val_rmse: 0.2491\n",
            "Epoch 8/50\n",
            "\u001b[1m269/269\u001b[0m \u001b[32m━━━━━━━━━━━━━━━━━━━━\u001b[0m\u001b[37m\u001b[0m \u001b[1m10s\u001b[0m 27ms/step - loss: 0.0287 - mae: 0.0971 - rmse: 0.1248 - val_loss: 0.0749 - val_mae: 0.2073 - val_rmse: 0.2467\n",
            "Epoch 9/50\n",
            "\u001b[1m269/269\u001b[0m \u001b[32m━━━━━━━━━━━━━━━━━━━━\u001b[0m\u001b[37m\u001b[0m \u001b[1m12s\u001b[0m 33ms/step - loss: 0.0271 - mae: 0.0877 - rmse: 0.1135 - val_loss: 0.0749 - val_mae: 0.2053 - val_rmse: 0.2448\n",
            "Epoch 10/50\n",
            "\u001b[1m269/269\u001b[0m \u001b[32m━━━━━━━━━━━━━━━━━━━━\u001b[0m\u001b[37m\u001b[0m \u001b[1m11s\u001b[0m 35ms/step - loss: 0.0259 - mae: 0.0800 - rmse: 0.1040 - val_loss: 0.0747 - val_mae: 0.2036 - val_rmse: 0.2432\n",
            "Epoch 11/50\n",
            "\u001b[1m269/269\u001b[0m \u001b[32m━━━━━━━━━━━━━━━━━━━━\u001b[0m\u001b[37m\u001b[0m \u001b[1m10s\u001b[0m 35ms/step - loss: 0.0251 - mae: 0.0750 - rmse: 0.0978 - val_loss: 0.0743 - val_mae: 0.2022 - val_rmse: 0.2417\n",
            "Epoch 12/50\n",
            "\u001b[1m269/269\u001b[0m \u001b[32m━━━━━━━━━━━━━━━━━━━━\u001b[0m\u001b[37m\u001b[0m \u001b[1m7s\u001b[0m 23ms/step - loss: 0.0245 - mae: 0.0709 - rmse: 0.0929 - val_loss: 0.0738 - val_mae: 0.2007 - val_rmse: 0.2403\n",
            "Epoch 13/50\n",
            "\u001b[1m269/269\u001b[0m \u001b[32m━━━━━━━━━━━━━━━━━━━━\u001b[0m\u001b[37m\u001b[0m \u001b[1m14s\u001b[0m 38ms/step - loss: 0.0240 - mae: 0.0681 - rmse: 0.0892 - val_loss: 0.0731 - val_mae: 0.1993 - val_rmse: 0.2387\n",
            "Epoch 14/50\n",
            "\u001b[1m269/269\u001b[0m \u001b[32m━━━━━━━━━━━━━━━━━━━━\u001b[0m\u001b[37m\u001b[0m \u001b[1m9s\u001b[0m 34ms/step - loss: 0.0235 - mae: 0.0652 - rmse: 0.0858 - val_loss: 0.0724 - val_mae: 0.1978 - val_rmse: 0.2372\n",
            "Epoch 15/50\n",
            "\u001b[1m269/269\u001b[0m \u001b[32m━━━━━━━━━━━━━━━━━━━━\u001b[0m\u001b[37m\u001b[0m \u001b[1m11s\u001b[0m 35ms/step - loss: 0.0230 - mae: 0.0634 - rmse: 0.0835 - val_loss: 0.0715 - val_mae: 0.1962 - val_rmse: 0.2355\n",
            "Epoch 16/50\n",
            "\u001b[1m269/269\u001b[0m \u001b[32m━━━━━━━━━━━━━━━━━━━━\u001b[0m\u001b[37m\u001b[0m \u001b[1m10s\u001b[0m 35ms/step - loss: 0.0225 - mae: 0.0616 - rmse: 0.0811 - val_loss: 0.0705 - val_mae: 0.1946 - val_rmse: 0.2338\n",
            "Epoch 17/50\n",
            "\u001b[1m269/269\u001b[0m \u001b[32m━━━━━━━━━━━━━━━━━━━━\u001b[0m\u001b[37m\u001b[0m \u001b[1m10s\u001b[0m 36ms/step - loss: 0.0222 - mae: 0.0605 - rmse: 0.0802 - val_loss: 0.0695 - val_mae: 0.1928 - val_rmse: 0.2320\n",
            "Epoch 18/50\n",
            "\u001b[1m269/269\u001b[0m \u001b[32m━━━━━━━━━━━━━━━━━━━━\u001b[0m\u001b[37m\u001b[0m \u001b[1m10s\u001b[0m 33ms/step - loss: 0.0218 - mae: 0.0597 - rmse: 0.0792 - val_loss: 0.0683 - val_mae: 0.1910 - val_rmse: 0.2301\n",
            "Epoch 19/50\n",
            "\u001b[1m269/269\u001b[0m \u001b[32m━━━━━━━━━━━━━━━━━━━━\u001b[0m\u001b[37m\u001b[0m \u001b[1m11s\u001b[0m 37ms/step - loss: 0.0213 - mae: 0.0585 - rmse: 0.0776 - val_loss: 0.0672 - val_mae: 0.1892 - val_rmse: 0.2282\n",
            "Epoch 20/50\n",
            "\u001b[1m269/269\u001b[0m \u001b[32m━━━━━━━━━━━━━━━━━━━━\u001b[0m\u001b[37m\u001b[0m \u001b[1m10s\u001b[0m 36ms/step - loss: 0.0209 - mae: 0.0577 - rmse: 0.0769 - val_loss: 0.0660 - val_mae: 0.1874 - val_rmse: 0.2262\n",
            "Epoch 21/50\n",
            "\u001b[1m269/269\u001b[0m \u001b[32m━━━━━━━━━━━━━━━━━━━━\u001b[0m\u001b[37m\u001b[0m \u001b[1m10s\u001b[0m 37ms/step - loss: 0.0204 - mae: 0.0571 - rmse: 0.0758 - val_loss: 0.0647 - val_mae: 0.1854 - val_rmse: 0.2242\n",
            "Epoch 22/50\n",
            "\u001b[1m269/269\u001b[0m \u001b[32m━━━━━━━━━━━━━━━━━━━━\u001b[0m\u001b[37m\u001b[0m \u001b[1m10s\u001b[0m 38ms/step - loss: 0.0200 - mae: 0.0565 - rmse: 0.0753 - val_loss: 0.0634 - val_mae: 0.1835 - val_rmse: 0.2221\n",
            "Epoch 23/50\n",
            "\u001b[1m269/269\u001b[0m \u001b[32m━━━━━━━━━━━━━━━━━━━━\u001b[0m\u001b[37m\u001b[0m \u001b[1m9s\u001b[0m 34ms/step - loss: 0.0196 - mae: 0.0561 - rmse: 0.0748 - val_loss: 0.0622 - val_mae: 0.1816 - val_rmse: 0.2202\n",
            "Epoch 24/50\n",
            "\u001b[1m269/269\u001b[0m \u001b[32m━━━━━━━━━━━━━━━━━━━━\u001b[0m\u001b[37m\u001b[0m \u001b[1m11s\u001b[0m 37ms/step - loss: 0.0191 - mae: 0.0557 - rmse: 0.0742 - val_loss: 0.0610 - val_mae: 0.1797 - val_rmse: 0.2182\n",
            "Epoch 25/50\n",
            "\u001b[1m269/269\u001b[0m \u001b[32m━━━━━━━━━━━━━━━━━━━━\u001b[0m\u001b[37m\u001b[0m \u001b[1m10s\u001b[0m 38ms/step - loss: 0.0186 - mae: 0.0550 - rmse: 0.0736 - val_loss: 0.0598 - val_mae: 0.1778 - val_rmse: 0.2163\n",
            "Epoch 26/50\n",
            "\u001b[1m269/269\u001b[0m \u001b[32m━━━━━━━━━━━━━━━━━━━━\u001b[0m\u001b[37m\u001b[0m \u001b[1m20s\u001b[0m 38ms/step - loss: 0.0182 - mae: 0.0548 - rmse: 0.0734 - val_loss: 0.0586 - val_mae: 0.1760 - val_rmse: 0.2145\n",
            "Epoch 27/50\n",
            "\u001b[1m269/269\u001b[0m \u001b[32m━━━━━━━━━━━━━━━━━━━━\u001b[0m\u001b[37m\u001b[0m \u001b[1m9s\u001b[0m 34ms/step - loss: 0.0177 - mae: 0.0540 - rmse: 0.0723 - val_loss: 0.0575 - val_mae: 0.1742 - val_rmse: 0.2127\n",
            "Epoch 28/50\n",
            "\u001b[1m269/269\u001b[0m \u001b[32m━━━━━━━━━━━━━━━━━━━━\u001b[0m\u001b[37m\u001b[0m \u001b[1m10s\u001b[0m 35ms/step - loss: 0.0173 - mae: 0.0540 - rmse: 0.0723 - val_loss: 0.0564 - val_mae: 0.1725 - val_rmse: 0.2111\n",
            "Epoch 29/50\n",
            "\u001b[1m269/269\u001b[0m \u001b[32m━━━━━━━━━━━━━━━━━━━━\u001b[0m\u001b[37m\u001b[0m \u001b[1m11s\u001b[0m 38ms/step - loss: 0.0169 - mae: 0.0535 - rmse: 0.0718 - val_loss: 0.0555 - val_mae: 0.1709 - val_rmse: 0.2096\n",
            "Epoch 30/50\n",
            "\u001b[1m269/269\u001b[0m \u001b[32m━━━━━━━━━━━━━━━━━━━━\u001b[0m\u001b[37m\u001b[0m \u001b[1m10s\u001b[0m 37ms/step - loss: 0.0165 - mae: 0.0531 - rmse: 0.0714 - val_loss: 0.0545 - val_mae: 0.1693 - val_rmse: 0.2082\n",
            "Epoch 31/50\n",
            "\u001b[1m269/269\u001b[0m \u001b[32m━━━━━━━━━━━━━━━━━━━━\u001b[0m\u001b[37m\u001b[0m \u001b[1m10s\u001b[0m 38ms/step - loss: 0.0160 - mae: 0.0527 - rmse: 0.0706 - val_loss: 0.0537 - val_mae: 0.1679 - val_rmse: 0.2070\n",
            "Epoch 32/50\n",
            "\u001b[1m269/269\u001b[0m \u001b[32m━━━━━━━━━━━━━━━━━━━━\u001b[0m\u001b[37m\u001b[0m \u001b[1m18s\u001b[0m 30ms/step - loss: 0.0156 - mae: 0.0522 - rmse: 0.0701 - val_loss: 0.0529 - val_mae: 0.1666 - val_rmse: 0.2058\n",
            "Epoch 33/50\n",
            "\u001b[1m269/269\u001b[0m \u001b[32m━━━━━━━━━━━━━━━━━━━━\u001b[0m\u001b[37m\u001b[0m \u001b[1m11s\u001b[0m 33ms/step - loss: 0.0153 - mae: 0.0521 - rmse: 0.0699 - val_loss: 0.0522 - val_mae: 0.1654 - val_rmse: 0.2047\n",
            "Epoch 34/50\n",
            "\u001b[1m269/269\u001b[0m \u001b[32m━━━━━━━━━━━━━━━━━━━━\u001b[0m\u001b[37m\u001b[0m \u001b[1m10s\u001b[0m 33ms/step - loss: 0.0149 - mae: 0.0512 - rmse: 0.0689 - val_loss: 0.0515 - val_mae: 0.1642 - val_rmse: 0.2038\n",
            "Epoch 35/50\n",
            "\u001b[1m269/269\u001b[0m \u001b[32m━━━━━━━━━━━━━━━━━━━━\u001b[0m\u001b[37m\u001b[0m \u001b[1m10s\u001b[0m 33ms/step - loss: 0.0146 - mae: 0.0514 - rmse: 0.0689 - val_loss: 0.0510 - val_mae: 0.1632 - val_rmse: 0.2030\n",
            "Epoch 36/50\n",
            "\u001b[1m269/269\u001b[0m \u001b[32m━━━━━━━━━━━━━━━━━━━━\u001b[0m\u001b[37m\u001b[0m \u001b[1m9s\u001b[0m 30ms/step - loss: 0.0144 - mae: 0.0513 - rmse: 0.0688 - val_loss: 0.0504 - val_mae: 0.1623 - val_rmse: 0.2022\n",
            "Epoch 37/50\n",
            "\u001b[1m269/269\u001b[0m \u001b[32m━━━━━━━━━━━━━━━━━━━━\u001b[0m\u001b[37m\u001b[0m \u001b[1m9s\u001b[0m 24ms/step - loss: 0.0141 - mae: 0.0510 - rmse: 0.0685 - val_loss: 0.0499 - val_mae: 0.1614 - val_rmse: 0.2016\n",
            "Epoch 38/50\n",
            "\u001b[1m269/269\u001b[0m \u001b[32m━━━━━━━━━━━━━━━━━━━━\u001b[0m\u001b[37m\u001b[0m \u001b[1m9s\u001b[0m 32ms/step - loss: 0.0138 - mae: 0.0504 - rmse: 0.0676 - val_loss: 0.0495 - val_mae: 0.1607 - val_rmse: 0.2010\n",
            "Epoch 39/50\n",
            "\u001b[1m269/269\u001b[0m \u001b[32m━━━━━━━━━━━━━━━━━━━━\u001b[0m\u001b[37m\u001b[0m \u001b[1m8s\u001b[0m 29ms/step - loss: 0.0135 - mae: 0.0502 - rmse: 0.0674 - val_loss: 0.0491 - val_mae: 0.1600 - val_rmse: 0.2005\n",
            "Epoch 40/50\n",
            "\u001b[1m269/269\u001b[0m \u001b[32m━━━━━━━━━━━━━━━━━━━━\u001b[0m\u001b[37m\u001b[0m \u001b[1m9s\u001b[0m 33ms/step - loss: 0.0133 - mae: 0.0497 - rmse: 0.0668 - val_loss: 0.0487 - val_mae: 0.1594 - val_rmse: 0.2001\n",
            "Epoch 41/50\n",
            "\u001b[1m269/269\u001b[0m \u001b[32m━━━━━━━━━━━━━━━━━━━━\u001b[0m\u001b[37m\u001b[0m \u001b[1m9s\u001b[0m 27ms/step - loss: 0.0131 - mae: 0.0497 - rmse: 0.0667 - val_loss: 0.0484 - val_mae: 0.1588 - val_rmse: 0.1997\n",
            "Epoch 42/50\n",
            "\u001b[1m269/269\u001b[0m \u001b[32m━━━━━━━━━━━━━━━━━━━━\u001b[0m\u001b[37m\u001b[0m \u001b[1m7s\u001b[0m 28ms/step - loss: 0.0128 - mae: 0.0491 - rmse: 0.0660 - val_loss: 0.0481 - val_mae: 0.1583 - val_rmse: 0.1994\n",
            "Epoch 43/50\n",
            "\u001b[1m269/269\u001b[0m \u001b[32m━━━━━━━━━━━━━━━━━━━━\u001b[0m\u001b[37m\u001b[0m \u001b[1m9s\u001b[0m 24ms/step - loss: 0.0127 - mae: 0.0492 - rmse: 0.0661 - val_loss: 0.0478 - val_mae: 0.1578 - val_rmse: 0.1991\n",
            "Epoch 44/50\n",
            "\u001b[1m269/269\u001b[0m \u001b[32m━━━━━━━━━━━━━━━━━━━━\u001b[0m\u001b[37m\u001b[0m \u001b[1m12s\u001b[0m 32ms/step - loss: 0.0124 - mae: 0.0486 - rmse: 0.0653 - val_loss: 0.0476 - val_mae: 0.1574 - val_rmse: 0.1989\n",
            "Epoch 45/50\n",
            "\u001b[1m269/269\u001b[0m \u001b[32m━━━━━━━━━━━━━━━━━━━━\u001b[0m\u001b[37m\u001b[0m \u001b[1m9s\u001b[0m 32ms/step - loss: 0.0123 - mae: 0.0485 - rmse: 0.0652 - val_loss: 0.0474 - val_mae: 0.1570 - val_rmse: 0.1986\n",
            "Epoch 46/50\n",
            "\u001b[1m269/269\u001b[0m \u001b[32m━━━━━━━━━━━━━━━━━━━━\u001b[0m\u001b[37m\u001b[0m \u001b[1m8s\u001b[0m 24ms/step - loss: 0.0120 - mae: 0.0480 - rmse: 0.0646 - val_loss: 0.0472 - val_mae: 0.1567 - val_rmse: 0.1985\n",
            "Epoch 47/50\n",
            "\u001b[1m269/269\u001b[0m \u001b[32m━━━━━━━━━━━━━━━━━━━━\u001b[0m\u001b[37m\u001b[0m \u001b[1m13s\u001b[0m 33ms/step - loss: 0.0119 - mae: 0.0481 - rmse: 0.0648 - val_loss: 0.0470 - val_mae: 0.1564 - val_rmse: 0.1983\n",
            "Epoch 48/50\n",
            "\u001b[1m269/269\u001b[0m \u001b[32m━━━━━━━━━━━━━━━━━━━━\u001b[0m\u001b[37m\u001b[0m \u001b[1m10s\u001b[0m 30ms/step - loss: 0.0117 - mae: 0.0476 - rmse: 0.0640 - val_loss: 0.0469 - val_mae: 0.1561 - val_rmse: 0.1982\n",
            "Epoch 49/50\n",
            "\u001b[1m269/269\u001b[0m \u001b[32m━━━━━━━━━━━━━━━━━━━━\u001b[0m\u001b[37m\u001b[0m \u001b[1m12s\u001b[0m 36ms/step - loss: 0.0116 - mae: 0.0472 - rmse: 0.0637 - val_loss: 0.0467 - val_mae: 0.1559 - val_rmse: 0.1981\n",
            "Epoch 50/50\n",
            "\u001b[1m269/269\u001b[0m \u001b[32m━━━━━━━━━━━━━━━━━━━━\u001b[0m\u001b[37m\u001b[0m \u001b[1m11s\u001b[0m 38ms/step - loss: 0.0114 - mae: 0.0471 - rmse: 0.0634 - val_loss: 0.0466 - val_mae: 0.1557 - val_rmse: 0.1981\n"
          ]
        }
      ],
      "source": [
        "# Callback EarlyStopping\n",
        "callbacks = EarlyStopping(\n",
        "    min_delta=0.0001,\n",
        "    patience=5,\n",
        "    restore_best_weights=True\n",
        ")\n",
        "\n",
        "# Training\n",
        "history = model.fit(\n",
        "    x=x_train,\n",
        "    y=y_train,\n",
        "    validation_data=(x_val, y_val),\n",
        "    epochs=50,\n",
        "    batch_size=256,\n",
        "    shuffle=True,\n",
        "    verbose=1,\n",
        "    callbacks=[callbacks]\n",
        ")\n"
      ]
    },
    {
      "cell_type": "markdown",
      "metadata": {
        "id": "XctzCfzbYCBK"
      },
      "source": [
        "## Evaluasi dan Visualisasi"
      ]
    },
    {
      "cell_type": "markdown",
      "metadata": {
        "id": "wUwyffCMX2sk"
      },
      "source": [
        "Bagian Evaluasi dan Visualisasi bertujuan untuk mengukur performa model rekomendasi setelah proses pelatihan selesai serta menampilkan hasil evaluasi tersebut dalam bentuk visual. Evaluasi biasanya dilakukan dengan menggunakan metrik seperti MAE (Mean Absolute Error) dan RMSE (Root Mean Squared Error) untuk melihat seberapa akurat prediksi model dibandingkan dengan nilai rating sebenarnya."
      ]
    },
    {
      "cell_type": "code",
      "execution_count": null,
      "metadata": {
        "colab": {
          "base_uri": "https://localhost:8080/"
        },
        "id": "x-wel-MLBHi4",
        "outputId": "34d4b1aa-d7e2-4d1c-bc6c-f6a0fb585cf9"
      },
      "outputs": [
        {
          "name": "stdout",
          "output_type": "stream",
          "text": [
            "\u001b[1m538/538\u001b[0m \u001b[32m━━━━━━━━━━━━━━━━━━━━\u001b[0m\u001b[37m\u001b[0m \u001b[1m4s\u001b[0m 7ms/step - loss: 0.0476 - mae: 0.1571 - rmse: 0.2005\n",
            "\n",
            "Validation Loss (MSE): 0.0466\n",
            "Validation MAE: 0.1557\n",
            "Validation RMSE: 0.1981\n"
          ]
        }
      ],
      "source": [
        "# Evaluasi akhir pada validation set\n",
        "val_loss, val_mae, val_rmse = model.evaluate(x_val, y_val, verbose=1)\n",
        "print(f\"\\nValidation Loss (MSE): {val_loss:.4f}\")\n",
        "print(f\"Validation MAE: {val_mae:.4f}\")\n",
        "print(f\"Validation RMSE: {val_rmse:.4f}\")\n"
      ]
    },
    {
      "cell_type": "markdown",
      "metadata": {
        "id": "zpfZh_VHYAA9"
      },
      "source": [
        "Hasil evaluasi menunjukkan bahwa model memiliki nilai Validation Loss (MSE) sebesar 0.0466, MAE sebesar 0.1557, dan RMSE sebesar 0.1981, yang mencerminkan performa prediksi model terhadap data validasi."
      ]
    },
    {
      "cell_type": "code",
      "execution_count": null,
      "metadata": {
        "colab": {
          "base_uri": "https://localhost:8080/",
          "height": 383
        },
        "id": "j6_5at3KusUA",
        "outputId": "385815fb-311c-4af4-cec9-296465922f48"
      },
      "outputs": [
        {
          "data": {
            "image/png": "[encoded data removed]",
            "text/plain": [
              "<Figure size 1500x400 with 3 Axes>"
            ]
          },
          "metadata": {},
          "output_type": "display_data"
        }
      ],
      "source": [
        "import matplotlib.pyplot as plt\n",
        "\n",
        "# Plot Loss\n",
        "plt.figure(figsize=(15, 4))\n",
        "\n",
        "plt.subplot(1, 3, 1)\n",
        "plt.plot(history.history['loss'], label='Train Loss')\n",
        "plt.plot(history.history['val_loss'], label='Val Loss')\n",
        "plt.title('Loss (MSE)')\n",
        "plt.xlabel('Epoch')\n",
        "plt.ylabel('Loss')\n",
        "plt.legend()\n",
        "\n",
        "# Plot MAE\n",
        "plt.subplot(1, 3, 2)\n",
        "plt.plot(history.history['mae'], label='Train MAE')\n",
        "plt.plot(history.history['val_mae'], label='Val MAE')\n",
        "plt.title('Mean Absolute Error')\n",
        "plt.xlabel('Epoch')\n",
        "plt.ylabel('MAE')\n",
        "plt.legend()\n",
        "\n",
        "# Plot RMSE\n",
        "plt.subplot(1, 3, 3)\n",
        "plt.plot(history.history['rmse'], label='Train RMSE')\n",
        "plt.plot(history.history['val_rmse'], label='Val RMSE')\n",
        "plt.title('Root Mean Squared Error')\n",
        "plt.xlabel('Epoch')\n",
        "plt.ylabel('RMSE')\n",
        "plt.legend()\n",
        "\n",
        "plt.tight_layout()\n",
        "plt.show()\n"
      ]
    },
    {
      "cell_type": "markdown",
      "metadata": {
        "id": "3zq4-WQTix0q"
      },
      "source": [
        "Berdasarkan grafik MSE, MAE, dan RMSE selama 50 epoch, model menunjukkan tren penurunan yang konsisten pada kedua metrik (train dan validasi), dengan nilai akhir mendekati nol. Penurunan MSE dari 0.10 ke 0, MAE dari 0.25 ke 0.05, dan RMSE dari 0.30 ke 0.10 mengindikasikan bahwa model semakin akurat dalam memprediksi data, baik pada data latih maupun validasi, tanpa tanda overfitting (karena val loss mengikuti tren train loss). Konsistensi penurunan tanpa fluktuasi besar menunjukkan proses pelatihan yang stabil dan efektif. Dengan demikian, model dapat disimpulkan memiliki kemampuan generalisasi yang baik, meskipun perlu dipastikan bahwa data validasi representatif dan tidak terjadi underfitting pada epoch akhir."
      ]
    },
    {
      "cell_type": "markdown",
      "metadata": {
        "id": "PugLOLg_Nwzu"
      },
      "source": [
        "# Mendapatkan Rekomendasi"
      ]
    },
    {
      "cell_type": "markdown",
      "metadata": {
        "id": "y_fIsUogYFSk"
      },
      "source": [
        "## Prediksi Rating dari Pasangan User-Anime"
      ]
    },
    {
      "cell_type": "markdown",
      "metadata": {
        "id": "vMmUTZzVfDug"
      },
      "source": [
        "Selanjutnya adalah kita mencoba untuk mendapatkan Rekomendasi, hal pertama adalah saya mencari anime_id untuk Gintama°"
      ]
    },
    {
      "cell_type": "code",
      "execution_count": null,
      "metadata": {
        "colab": {
          "base_uri": "https://localhost:8080/"
        },
        "id": "AfIcJvprIRMJ",
        "outputId": "5e280e06-345c-40d7-d49f-f16c99b9955d"
      },
      "outputs": [
        {
          "name": "stdout",
          "output_type": "stream",
          "text": [
            "ID untuk anime 'Gintama°': 1196\n"
          ]
        }
      ],
      "source": [
        "# Mengecek ID untuk anime \"Gintama\"\n",
        "anime_name = \"Gintama°\"\n",
        "anime_id = anime_encoder.transform([anime_name])\n",
        "A\n",
        "print(f\"ID untuk anime '{anime_name}': {anime_id[0]}\")"
      ]
    },
    {
      "cell_type": "markdown",
      "metadata": {
        "id": "s7zNE3n6TQyw"
      },
      "source": [
        "Lalu untuk mengetahui Prediksi Rating untuk Satu Pasangan User–Anime\n",
        "Misalnya  ingin tahu Gintama yang telahh kita dapatkan anime_id nya:\n",
        "\n",
        "\"Kalau user dengan ID 10 (setelah encoding) menonton anime dengan ID 1196, berapa rating yang kemungkinan akan dia berikan?\""
      ]
    },
    {
      "cell_type": "code",
      "execution_count": null,
      "metadata": {
        "colab": {
          "base_uri": "https://localhost:8080/"
        },
        "id": "yx-rBPsFGBDS",
        "outputId": "6f6eaecb-b589-4953-897b-671cc2a6894e"
      },
      "outputs": [
        {
          "name": "stdout",
          "output_type": "stream",
          "text": [
            "\u001b[1m1/1\u001b[0m \u001b[32m━━━━━━━━━━━━━━━━━━━━\u001b[0m\u001b[37m\u001b[0m \u001b[1m0s\u001b[0m 76ms/step\n",
            "Prediksi rating untuk User 10 pada Anime 1196: 0.91\n"
          ]
        }
      ],
      "source": [
        "user_id = 10\n",
        "anime_id = 1196 # ini anime \"Gintama°\"\n",
        "prediction = model.predict(np.array([[user_id, anime_id]]))\n",
        "print(f\"Prediksi rating untuk User {user_id} pada Anime {anime_id}: {prediction[0][0]:.2f}\")\n"
      ]
    },
    {
      "cell_type": "markdown",
      "metadata": {
        "id": "1eTMkA2rfe24"
      },
      "source": [
        "Dari hal tersebut model memprediksi rating di angka 0.91(ini merupakan nilai setelah normalisasi dari 0-1)"
      ]
    },
    {
      "cell_type": "markdown",
      "metadata": {
        "id": "DjWH4MDpTh_w"
      },
      "source": [
        "## Menemukan 10 anime terbaik yang direkomendasikan oleh model untuk 1 user tertentu.\n",
        "\n",
        "Dengan kata lain, model memprediksi semua anime mana saja yang kemungkinan besar akan disukai oleh user tersebut, lalu mengambil 10 prediksi tertinggi."
      ]
    },
    {
      "cell_type": "code",
      "execution_count": null,
      "metadata": {
        "colab": {
          "base_uri": "https://localhost:8080/"
        },
        "id": "C5klGT8qE1Pf",
        "outputId": "8987de2d-ee2e-4799-cf80-2fb4e4390e87"
      },
      "outputs": [
        {
          "name": "stdout",
          "output_type": "stream",
          "text": [
            "\u001b[1m135/135\u001b[0m \u001b[32m━━━━━━━━━━━━━━━━━━━━\u001b[0m\u001b[37m\u001b[0m \u001b[1m1s\u001b[0m 3ms/step\n",
            "10 Rekomendasi Anime Terbaik untuk User 10:\n",
            " No                                                 Anime  Predicted Rating\n",
            "  1                                              Gintama°          0.910590\n",
            "  2                               Sora yori mo Tooi Basho          0.889921\n",
            "  3                    Shingeki no Kyojin Season 3 Part 2          0.881760\n",
            "  4                         Suzumiya Haruhi no Shoushitsu          0.870965\n",
            "  5 Gintama Movie 2: Kanketsu-hen - Yorozuya yo Eien Nare          0.863196\n",
            "  6                                         Uchuu Kyoudai          0.858214\n",
            "  7                                        Hajime no Ippo          0.858153\n",
            "  8                               Natsume Yuujinchou Roku          0.857721\n",
            "  9                             Toaru Kagaku no Railgun T          0.857591\n",
            " 10                                              Mononoke          0.850221\n"
          ]
        }
      ],
      "source": [
        "anime_ids = np.arange(total_animes)  # ID semua anime\n",
        "user_data = np.array([[user_id, anime_id] for anime_id in anime_ids])\n",
        "\n",
        "# Prediksi rating untuk setiap anime\n",
        "predictions = model.predict(user_data)\n",
        "\n",
        "# Mengambil 10 anime dengan rating tertinggi\n",
        "top_10_animes = np.argsort(predictions[:, 0])[-10:][::-1]\n",
        "\n",
        "# Menampilkan ID anime dan prediksi rating untuk 10 anime terbaik\n",
        "recommended_animes = [(anime_encoder.inverse_transform([anime_id])[0], predictions[anime_id][0]) for anime_id in top_10_animes]\n",
        "\n",
        "# Membuat DataFrame untuk hasil yang lebih rapi\n",
        "recommended_df = pd.DataFrame(recommended_animes, columns=['Anime', 'Predicted Rating'])\n",
        "\n",
        "# Menambahkan kolom No untuk ranking\n",
        "recommended_df['No'] = np.arange(1, len(recommended_df) + 1)\n",
        "\n",
        "# Menyusun ulang kolom sehingga 'No' berada di sebelah kiri\n",
        "recommended_df = recommended_df[['No', 'Anime', 'Predicted Rating']]\n",
        "\n",
        "# Menampilkan tabel hasil rekomendasi dengan user_id yang dinamis\n",
        "print(f\"10 Rekomendasi Anime Terbaik untuk User {user_id}:\")\n",
        "print(recommended_df.to_string(index=False))"
      ]
    },
    {
      "cell_type": "markdown",
      "metadata": {
        "id": "Wipt9l-tgVfb"
      },
      "source": [
        "Model rekomendasi berhasil mengidentifikasi 10 anime terbaik yang diprediksi paling disukai oleh user dengan ID 10, berdasarkan rating yang telah dipelajari selama pelatihan. Model ini mengevaluasi seluruh daftar anime dan memberikan skor prediksi (rating) untuk masing-masing, lalu memilih 10 dengan nilai tertinggi. Rekomendasi tersebut mencerminkan preferensi pengguna secara personal, seperti terlihat dari munculnya judul-judul populer seperti Gintama°, Shingeki no Kyojin Season 3 Part 2, dan Mononoke, yang kemungkinan besar akan memberikan pengalaman menonton yang memuaskan bagi pengguna tersebut."
      ]
    },
    {
      "cell_type": "code",
      "execution_count": null,
      "metadata": {
        "colab": {
          "base_uri": "https://localhost:8080/",
          "height": 564
        },
        "id": "UDGnVM4dGE_-",
        "outputId": "3cda7b0f-4b73-42f3-eac4-d4dd57bb16bf"
      },
      "outputs": [
        {
          "data": {
            "image/png": "[encoded data removed]",
            "text/plain": [
              "<Figure size 1000x600 with 1 Axes>"
            ]
          },
          "metadata": {},
          "output_type": "display_data"
        }
      ],
      "source": [
        "# Plotting 10 rekomendasi anime\n",
        "anime_titles = [anime[0] for anime in recommended_animes]\n",
        "ratings = [anime[1] for anime in recommended_animes]\n",
        "\n",
        "plt.figure(figsize=(10, 6))\n",
        "plt.barh(anime_titles, ratings, color='skyblue')\n",
        "plt.xlabel('Prediksi Rating')\n",
        "plt.title('10 Rekomendasi Anime Terbaik untuk User 10')\n",
        "plt.gca().invert_yaxis()\n",
        "plt.show()\n"
      ]
    },
    {
      "cell_type": "markdown",
      "metadata": {
        "id": "o0sVFUWZg4qi"
      },
      "source": [
        "Berdasarkan hasil visualisasi rekomendasi, terlihat bahwa Gintama° menjadi anime dengan prediksi rating tertinggi untuk User 10, diikuti oleh Sora yori mo Tooi Basho dan Shingeki no Kyojin Season 3 Part 2, yang menunjukkan bahwa model cenderung merekomendasikan anime dengan popularitas dan kualitas tinggi sesuai preferensi user tersebut."
      ]
    },
    {
      "cell_type": "markdown",
      "metadata": {
        "id": "MgBcFy0-hNzE"
      },
      "source": [
        "kesimpulan : Pada tahap evaluasi dan visualisasi, model rekomendasi menunjukkan performa yang sangat baik dengan nilai Validation Loss (MSE) sebesar 0.0466, MAE sebesar 0.1557, dan RMSE sebesar 0.1981, yang mengindikasikan tingkat akurasi prediksi yang tinggi. Grafik pelatihan memperlihatkan tren penurunan yang konsisten pada metrik MSE, MAE, dan RMSE baik pada data latih maupun validasi, tanpa adanya tanda overfitting, menunjukkan proses pelatihan yang stabil dan efektif. Model mampu memprediksi rating user terhadap anime secara akurat, seperti terlihat dari prediksi rating sebesar 0.91 untuk anime Gintama° oleh user ID 10. Selain itu, sistem berhasil menghasilkan 10 rekomendasi anime terbaik dengan prediksi rating tertinggi yang relevan dengan preferensi user tersebut, dan hasil ini diperkuat oleh visualisasi batang horizontal yang menampilkan judul-judul anime populer seperti Gintama°, Shingeki no Kyojin Season 3 Part 2, dan Mononoke, yang memperkuat validitas model dalam memberikan rekomendasi yang personal dan berkualitas."
      ]
    }
  ],
  "metadata": {
    "colab": {
      "provenance": []
    },
    "kernelspec": {
      "display_name": "Python 3",
      "name": "python3"
    },
    "language_info": {
      "name": "python"
    }
  },
  "nbformat": 4,
  "nbformat_minor": 0
}
